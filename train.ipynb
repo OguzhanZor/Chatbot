{
 "cells": [
  {
   "cell_type": "code",
   "execution_count": 1,
   "metadata": {
    "scrolled": true
   },
   "outputs": [
    {
     "name": "stdout",
     "output_type": "stream",
     "text": [
      "importing Jupyter notebook from nltk_utils.ipynb\n",
      "importing Jupyter notebook from model.ipynb\n"
     ]
    }
   ],
   "source": [
    "import import_ipynb\n",
    "\n",
    "import numpy as np\n",
    "import json\n",
    "from nltk_utils import tokenize,stem,bag_of_word,normalizer\n",
    "\n",
    "\n",
    "import torch\n",
    "import torch.nn as nn\n",
    "from torch.utils.data import Dataset, DataLoader \n",
    "\n",
    "\n",
    "from model import NeuralNet\n",
    "\n"
   ]
  },
  {
   "cell_type": "code",
   "execution_count": 2,
   "metadata": {
    "scrolled": true
   },
   "outputs": [
    {
     "name": "stdout",
     "output_type": "stream",
     "text": [
      "{'intents': [{'tag': 'selamlama', 'patterns': ['Selam', 'Nasılsın', 'Kimse Yok Mu?', 'Merhaba', 'İyi günler'], 'responses': ['Hey :-)', 'Merhaba, ziyaret ettiğiniz için teşekkürler', 'Merhabalar, sizin için ne yapabilirim?', 'Merhabalar, nasıl yardımcı olabilirim?'], 'action': ['']}, {'tag': 'hoşçakal', 'patterns': ['Güle güle', 'Sonra görüşürüz', 'Görüşürüz', 'By By'], 'responses': ['Sonra görüşürüz, ziyaret ettiğiniz için teşekkürler', 'İyi günler', 'Güle güle! Kısa süre sonra tekrar gelin.'], 'action': ['']}, {'tag': 'teşekkürler', 'patterns': ['Teşekkürler', 'Sağol', 'Yardımcı oldu', 'Çok teşekkür ederim!'], 'responses': ['Yardımcı olmaktan mutluluk duyarız!', 'Her zaman!', 'Memnuniyetle'], 'action': ['']}, {'tag': 'öğeler', 'patterns': ['Neler satıyorsun?', 'Hangi eşyalarınız var?', 'Ne tür eşyalar var?', 'Ne satıyorsun?'], 'responses': ['Kahve ve çay satıyoruz', 'Kahve ve çayımız var'], 'action': ['']}, {'tag': 'ödemeler', 'patterns': ['Kredi kartı kabul ediyor musunuz?', 'MasterCard kabul ediyor musunuz?', 'Paypal ile ödeme yapabilir miyim?', 'Yalnızca nakit misiniz?'], 'responses': ['Nakit, VISA, Mastercard ve Paypal kabul ediyoruz', \"Nakit yanında çoğu kredi kartını ve Paypal'ı kabul ediyoruz\"], 'action': ['']}, {'tag': 'teslimat', 'patterns': ['Ne zamana gönderebilirsiniz?', 'Ne zamana kadar teslim edebilirsiniz?', 'Teslimat ne kadar sürer?', 'Nakliye ne kadar sürer?', 'Teslimatımı ne zaman alacağım?'], 'responses': ['Teslimat 2-4 gün sürer', 'Nakliye 2-4 gün sürer'], 'action': ['']}, {'tag': 'komik', 'patterns': ['Bana şaka yapabilir misin?', 'Bana bir fıkra anlat!', 'Bana komik bir şey söyle!', 'Bir şaka biliyor musun?'], 'responses': ['Yenilikçi neden ağzını yaktı? Kahveyi soğumadan içti.', 'Oğlu üniversiteye gittiğinde bufalo ne dedi? Bison.'], 'action': ['']}, {'tag': 'hava', 'patterns': ['Hava nasıl?', 'Havayı söyle!', 'Nasıl hava?', 'Hava durumu.'], 'responses': [''], 'action': ['2']}, {'tag': 'musteri', 'patterns': ['Müsteri kayıt', 'Müsteri kaydolmak', 'Müsteri yeni kayıt'], 'responses': [''], 'action': ['3']}]}\n"
     ]
    }
   ],
   "source": [
    "with open('intents.json',encoding='utf-8') as f: #Burada json dosyasındaki bütün veriler okunup diziye aktarılıyor. \n",
    "    intents=json.load(f)\n",
    "\n",
    "print(intents)\n",
    "\n",
    "\n"
   ]
  },
  {
   "cell_type": "code",
   "execution_count": 3,
   "metadata": {},
   "outputs": [],
   "source": [
    "all_words=[]\n",
    "tags=[]\n",
    "xy=[]\n"
   ]
  },
  {
   "cell_type": "code",
   "execution_count": 4,
   "metadata": {
    "scrolled": true
   },
   "outputs": [
    {
     "name": "stdout",
     "output_type": "stream",
     "text": [
      "[(<java object 'java.util.ArrayList'>, 'selamlama')]\n",
      "[(<java object 'java.util.ArrayList'>, 'selamlama'), (<java object 'java.util.ArrayList'>, 'selamlama')]\n",
      "[(<java object 'java.util.ArrayList'>, 'selamlama'), (<java object 'java.util.ArrayList'>, 'selamlama'), (<java object 'java.util.ArrayList'>, 'selamlama')]\n",
      "[(<java object 'java.util.ArrayList'>, 'selamlama'), (<java object 'java.util.ArrayList'>, 'selamlama'), (<java object 'java.util.ArrayList'>, 'selamlama'), (<java object 'java.util.ArrayList'>, 'selamlama')]\n",
      "[(<java object 'java.util.ArrayList'>, 'selamlama'), (<java object 'java.util.ArrayList'>, 'selamlama'), (<java object 'java.util.ArrayList'>, 'selamlama'), (<java object 'java.util.ArrayList'>, 'selamlama'), (<java object 'java.util.ArrayList'>, 'selamlama')]\n",
      "[(<java object 'java.util.ArrayList'>, 'selamlama'), (<java object 'java.util.ArrayList'>, 'selamlama'), (<java object 'java.util.ArrayList'>, 'selamlama'), (<java object 'java.util.ArrayList'>, 'selamlama'), (<java object 'java.util.ArrayList'>, 'selamlama'), (<java object 'java.util.ArrayList'>, 'hoşçakal')]\n",
      "[(<java object 'java.util.ArrayList'>, 'selamlama'), (<java object 'java.util.ArrayList'>, 'selamlama'), (<java object 'java.util.ArrayList'>, 'selamlama'), (<java object 'java.util.ArrayList'>, 'selamlama'), (<java object 'java.util.ArrayList'>, 'selamlama'), (<java object 'java.util.ArrayList'>, 'hoşçakal'), (<java object 'java.util.ArrayList'>, 'hoşçakal')]\n",
      "[(<java object 'java.util.ArrayList'>, 'selamlama'), (<java object 'java.util.ArrayList'>, 'selamlama'), (<java object 'java.util.ArrayList'>, 'selamlama'), (<java object 'java.util.ArrayList'>, 'selamlama'), (<java object 'java.util.ArrayList'>, 'selamlama'), (<java object 'java.util.ArrayList'>, 'hoşçakal'), (<java object 'java.util.ArrayList'>, 'hoşçakal'), (<java object 'java.util.ArrayList'>, 'hoşçakal')]\n",
      "[(<java object 'java.util.ArrayList'>, 'selamlama'), (<java object 'java.util.ArrayList'>, 'selamlama'), (<java object 'java.util.ArrayList'>, 'selamlama'), (<java object 'java.util.ArrayList'>, 'selamlama'), (<java object 'java.util.ArrayList'>, 'selamlama'), (<java object 'java.util.ArrayList'>, 'hoşçakal'), (<java object 'java.util.ArrayList'>, 'hoşçakal'), (<java object 'java.util.ArrayList'>, 'hoşçakal'), (<java object 'java.util.ArrayList'>, 'hoşçakal')]\n",
      "[(<java object 'java.util.ArrayList'>, 'selamlama'), (<java object 'java.util.ArrayList'>, 'selamlama'), (<java object 'java.util.ArrayList'>, 'selamlama'), (<java object 'java.util.ArrayList'>, 'selamlama'), (<java object 'java.util.ArrayList'>, 'selamlama'), (<java object 'java.util.ArrayList'>, 'hoşçakal'), (<java object 'java.util.ArrayList'>, 'hoşçakal'), (<java object 'java.util.ArrayList'>, 'hoşçakal'), (<java object 'java.util.ArrayList'>, 'hoşçakal'), (<java object 'java.util.ArrayList'>, 'teşekkürler')]\n",
      "[(<java object 'java.util.ArrayList'>, 'selamlama'), (<java object 'java.util.ArrayList'>, 'selamlama'), (<java object 'java.util.ArrayList'>, 'selamlama'), (<java object 'java.util.ArrayList'>, 'selamlama'), (<java object 'java.util.ArrayList'>, 'selamlama'), (<java object 'java.util.ArrayList'>, 'hoşçakal'), (<java object 'java.util.ArrayList'>, 'hoşçakal'), (<java object 'java.util.ArrayList'>, 'hoşçakal'), (<java object 'java.util.ArrayList'>, 'hoşçakal'), (<java object 'java.util.ArrayList'>, 'teşekkürler'), (<java object 'java.util.ArrayList'>, 'teşekkürler')]\n",
      "[(<java object 'java.util.ArrayList'>, 'selamlama'), (<java object 'java.util.ArrayList'>, 'selamlama'), (<java object 'java.util.ArrayList'>, 'selamlama'), (<java object 'java.util.ArrayList'>, 'selamlama'), (<java object 'java.util.ArrayList'>, 'selamlama'), (<java object 'java.util.ArrayList'>, 'hoşçakal'), (<java object 'java.util.ArrayList'>, 'hoşçakal'), (<java object 'java.util.ArrayList'>, 'hoşçakal'), (<java object 'java.util.ArrayList'>, 'hoşçakal'), (<java object 'java.util.ArrayList'>, 'teşekkürler'), (<java object 'java.util.ArrayList'>, 'teşekkürler'), (<java object 'java.util.ArrayList'>, 'teşekkürler')]\n",
      "[(<java object 'java.util.ArrayList'>, 'selamlama'), (<java object 'java.util.ArrayList'>, 'selamlama'), (<java object 'java.util.ArrayList'>, 'selamlama'), (<java object 'java.util.ArrayList'>, 'selamlama'), (<java object 'java.util.ArrayList'>, 'selamlama'), (<java object 'java.util.ArrayList'>, 'hoşçakal'), (<java object 'java.util.ArrayList'>, 'hoşçakal'), (<java object 'java.util.ArrayList'>, 'hoşçakal'), (<java object 'java.util.ArrayList'>, 'hoşçakal'), (<java object 'java.util.ArrayList'>, 'teşekkürler'), (<java object 'java.util.ArrayList'>, 'teşekkürler'), (<java object 'java.util.ArrayList'>, 'teşekkürler'), (<java object 'java.util.ArrayList'>, 'teşekkürler')]\n",
      "[(<java object 'java.util.ArrayList'>, 'selamlama'), (<java object 'java.util.ArrayList'>, 'selamlama'), (<java object 'java.util.ArrayList'>, 'selamlama'), (<java object 'java.util.ArrayList'>, 'selamlama'), (<java object 'java.util.ArrayList'>, 'selamlama'), (<java object 'java.util.ArrayList'>, 'hoşçakal'), (<java object 'java.util.ArrayList'>, 'hoşçakal'), (<java object 'java.util.ArrayList'>, 'hoşçakal'), (<java object 'java.util.ArrayList'>, 'hoşçakal'), (<java object 'java.util.ArrayList'>, 'teşekkürler'), (<java object 'java.util.ArrayList'>, 'teşekkürler'), (<java object 'java.util.ArrayList'>, 'teşekkürler'), (<java object 'java.util.ArrayList'>, 'teşekkürler'), (<java object 'java.util.ArrayList'>, 'öğeler')]\n",
      "[(<java object 'java.util.ArrayList'>, 'selamlama'), (<java object 'java.util.ArrayList'>, 'selamlama'), (<java object 'java.util.ArrayList'>, 'selamlama'), (<java object 'java.util.ArrayList'>, 'selamlama'), (<java object 'java.util.ArrayList'>, 'selamlama'), (<java object 'java.util.ArrayList'>, 'hoşçakal'), (<java object 'java.util.ArrayList'>, 'hoşçakal'), (<java object 'java.util.ArrayList'>, 'hoşçakal'), (<java object 'java.util.ArrayList'>, 'hoşçakal'), (<java object 'java.util.ArrayList'>, 'teşekkürler'), (<java object 'java.util.ArrayList'>, 'teşekkürler'), (<java object 'java.util.ArrayList'>, 'teşekkürler'), (<java object 'java.util.ArrayList'>, 'teşekkürler'), (<java object 'java.util.ArrayList'>, 'öğeler'), (<java object 'java.util.ArrayList'>, 'öğeler')]\n",
      "[(<java object 'java.util.ArrayList'>, 'selamlama'), (<java object 'java.util.ArrayList'>, 'selamlama'), (<java object 'java.util.ArrayList'>, 'selamlama'), (<java object 'java.util.ArrayList'>, 'selamlama'), (<java object 'java.util.ArrayList'>, 'selamlama'), (<java object 'java.util.ArrayList'>, 'hoşçakal'), (<java object 'java.util.ArrayList'>, 'hoşçakal'), (<java object 'java.util.ArrayList'>, 'hoşçakal'), (<java object 'java.util.ArrayList'>, 'hoşçakal'), (<java object 'java.util.ArrayList'>, 'teşekkürler'), (<java object 'java.util.ArrayList'>, 'teşekkürler'), (<java object 'java.util.ArrayList'>, 'teşekkürler'), (<java object 'java.util.ArrayList'>, 'teşekkürler'), (<java object 'java.util.ArrayList'>, 'öğeler'), (<java object 'java.util.ArrayList'>, 'öğeler'), (<java object 'java.util.ArrayList'>, 'öğeler')]\n",
      "[(<java object 'java.util.ArrayList'>, 'selamlama'), (<java object 'java.util.ArrayList'>, 'selamlama'), (<java object 'java.util.ArrayList'>, 'selamlama'), (<java object 'java.util.ArrayList'>, 'selamlama'), (<java object 'java.util.ArrayList'>, 'selamlama'), (<java object 'java.util.ArrayList'>, 'hoşçakal'), (<java object 'java.util.ArrayList'>, 'hoşçakal'), (<java object 'java.util.ArrayList'>, 'hoşçakal'), (<java object 'java.util.ArrayList'>, 'hoşçakal'), (<java object 'java.util.ArrayList'>, 'teşekkürler'), (<java object 'java.util.ArrayList'>, 'teşekkürler'), (<java object 'java.util.ArrayList'>, 'teşekkürler'), (<java object 'java.util.ArrayList'>, 'teşekkürler'), (<java object 'java.util.ArrayList'>, 'öğeler'), (<java object 'java.util.ArrayList'>, 'öğeler'), (<java object 'java.util.ArrayList'>, 'öğeler'), (<java object 'java.util.ArrayList'>, 'öğeler')]\n",
      "[(<java object 'java.util.ArrayList'>, 'selamlama'), (<java object 'java.util.ArrayList'>, 'selamlama'), (<java object 'java.util.ArrayList'>, 'selamlama'), (<java object 'java.util.ArrayList'>, 'selamlama'), (<java object 'java.util.ArrayList'>, 'selamlama'), (<java object 'java.util.ArrayList'>, 'hoşçakal'), (<java object 'java.util.ArrayList'>, 'hoşçakal'), (<java object 'java.util.ArrayList'>, 'hoşçakal'), (<java object 'java.util.ArrayList'>, 'hoşçakal'), (<java object 'java.util.ArrayList'>, 'teşekkürler'), (<java object 'java.util.ArrayList'>, 'teşekkürler'), (<java object 'java.util.ArrayList'>, 'teşekkürler'), (<java object 'java.util.ArrayList'>, 'teşekkürler'), (<java object 'java.util.ArrayList'>, 'öğeler'), (<java object 'java.util.ArrayList'>, 'öğeler'), (<java object 'java.util.ArrayList'>, 'öğeler'), (<java object 'java.util.ArrayList'>, 'öğeler'), (<java object 'java.util.ArrayList'>, 'ödemeler')]\n"
     ]
    },
    {
     "name": "stdout",
     "output_type": "stream",
     "text": [
      "[(<java object 'java.util.ArrayList'>, 'selamlama'), (<java object 'java.util.ArrayList'>, 'selamlama'), (<java object 'java.util.ArrayList'>, 'selamlama'), (<java object 'java.util.ArrayList'>, 'selamlama'), (<java object 'java.util.ArrayList'>, 'selamlama'), (<java object 'java.util.ArrayList'>, 'hoşçakal'), (<java object 'java.util.ArrayList'>, 'hoşçakal'), (<java object 'java.util.ArrayList'>, 'hoşçakal'), (<java object 'java.util.ArrayList'>, 'hoşçakal'), (<java object 'java.util.ArrayList'>, 'teşekkürler'), (<java object 'java.util.ArrayList'>, 'teşekkürler'), (<java object 'java.util.ArrayList'>, 'teşekkürler'), (<java object 'java.util.ArrayList'>, 'teşekkürler'), (<java object 'java.util.ArrayList'>, 'öğeler'), (<java object 'java.util.ArrayList'>, 'öğeler'), (<java object 'java.util.ArrayList'>, 'öğeler'), (<java object 'java.util.ArrayList'>, 'öğeler'), (<java object 'java.util.ArrayList'>, 'ödemeler'), (<java object 'java.util.ArrayList'>, 'ödemeler')]\n",
      "[(<java object 'java.util.ArrayList'>, 'selamlama'), (<java object 'java.util.ArrayList'>, 'selamlama'), (<java object 'java.util.ArrayList'>, 'selamlama'), (<java object 'java.util.ArrayList'>, 'selamlama'), (<java object 'java.util.ArrayList'>, 'selamlama'), (<java object 'java.util.ArrayList'>, 'hoşçakal'), (<java object 'java.util.ArrayList'>, 'hoşçakal'), (<java object 'java.util.ArrayList'>, 'hoşçakal'), (<java object 'java.util.ArrayList'>, 'hoşçakal'), (<java object 'java.util.ArrayList'>, 'teşekkürler'), (<java object 'java.util.ArrayList'>, 'teşekkürler'), (<java object 'java.util.ArrayList'>, 'teşekkürler'), (<java object 'java.util.ArrayList'>, 'teşekkürler'), (<java object 'java.util.ArrayList'>, 'öğeler'), (<java object 'java.util.ArrayList'>, 'öğeler'), (<java object 'java.util.ArrayList'>, 'öğeler'), (<java object 'java.util.ArrayList'>, 'öğeler'), (<java object 'java.util.ArrayList'>, 'ödemeler'), (<java object 'java.util.ArrayList'>, 'ödemeler'), (<java object 'java.util.ArrayList'>, 'ödemeler')]\n",
      "[(<java object 'java.util.ArrayList'>, 'selamlama'), (<java object 'java.util.ArrayList'>, 'selamlama'), (<java object 'java.util.ArrayList'>, 'selamlama'), (<java object 'java.util.ArrayList'>, 'selamlama'), (<java object 'java.util.ArrayList'>, 'selamlama'), (<java object 'java.util.ArrayList'>, 'hoşçakal'), (<java object 'java.util.ArrayList'>, 'hoşçakal'), (<java object 'java.util.ArrayList'>, 'hoşçakal'), (<java object 'java.util.ArrayList'>, 'hoşçakal'), (<java object 'java.util.ArrayList'>, 'teşekkürler'), (<java object 'java.util.ArrayList'>, 'teşekkürler'), (<java object 'java.util.ArrayList'>, 'teşekkürler'), (<java object 'java.util.ArrayList'>, 'teşekkürler'), (<java object 'java.util.ArrayList'>, 'öğeler'), (<java object 'java.util.ArrayList'>, 'öğeler'), (<java object 'java.util.ArrayList'>, 'öğeler'), (<java object 'java.util.ArrayList'>, 'öğeler'), (<java object 'java.util.ArrayList'>, 'ödemeler'), (<java object 'java.util.ArrayList'>, 'ödemeler'), (<java object 'java.util.ArrayList'>, 'ödemeler'), (<java object 'java.util.ArrayList'>, 'ödemeler')]\n",
      "[(<java object 'java.util.ArrayList'>, 'selamlama'), (<java object 'java.util.ArrayList'>, 'selamlama'), (<java object 'java.util.ArrayList'>, 'selamlama'), (<java object 'java.util.ArrayList'>, 'selamlama'), (<java object 'java.util.ArrayList'>, 'selamlama'), (<java object 'java.util.ArrayList'>, 'hoşçakal'), (<java object 'java.util.ArrayList'>, 'hoşçakal'), (<java object 'java.util.ArrayList'>, 'hoşçakal'), (<java object 'java.util.ArrayList'>, 'hoşçakal'), (<java object 'java.util.ArrayList'>, 'teşekkürler'), (<java object 'java.util.ArrayList'>, 'teşekkürler'), (<java object 'java.util.ArrayList'>, 'teşekkürler'), (<java object 'java.util.ArrayList'>, 'teşekkürler'), (<java object 'java.util.ArrayList'>, 'öğeler'), (<java object 'java.util.ArrayList'>, 'öğeler'), (<java object 'java.util.ArrayList'>, 'öğeler'), (<java object 'java.util.ArrayList'>, 'öğeler'), (<java object 'java.util.ArrayList'>, 'ödemeler'), (<java object 'java.util.ArrayList'>, 'ödemeler'), (<java object 'java.util.ArrayList'>, 'ödemeler'), (<java object 'java.util.ArrayList'>, 'ödemeler'), (<java object 'java.util.ArrayList'>, 'teslimat')]\n",
      "[(<java object 'java.util.ArrayList'>, 'selamlama'), (<java object 'java.util.ArrayList'>, 'selamlama'), (<java object 'java.util.ArrayList'>, 'selamlama'), (<java object 'java.util.ArrayList'>, 'selamlama'), (<java object 'java.util.ArrayList'>, 'selamlama'), (<java object 'java.util.ArrayList'>, 'hoşçakal'), (<java object 'java.util.ArrayList'>, 'hoşçakal'), (<java object 'java.util.ArrayList'>, 'hoşçakal'), (<java object 'java.util.ArrayList'>, 'hoşçakal'), (<java object 'java.util.ArrayList'>, 'teşekkürler'), (<java object 'java.util.ArrayList'>, 'teşekkürler'), (<java object 'java.util.ArrayList'>, 'teşekkürler'), (<java object 'java.util.ArrayList'>, 'teşekkürler'), (<java object 'java.util.ArrayList'>, 'öğeler'), (<java object 'java.util.ArrayList'>, 'öğeler'), (<java object 'java.util.ArrayList'>, 'öğeler'), (<java object 'java.util.ArrayList'>, 'öğeler'), (<java object 'java.util.ArrayList'>, 'ödemeler'), (<java object 'java.util.ArrayList'>, 'ödemeler'), (<java object 'java.util.ArrayList'>, 'ödemeler'), (<java object 'java.util.ArrayList'>, 'ödemeler'), (<java object 'java.util.ArrayList'>, 'teslimat'), (<java object 'java.util.ArrayList'>, 'teslimat')]\n",
      "[(<java object 'java.util.ArrayList'>, 'selamlama'), (<java object 'java.util.ArrayList'>, 'selamlama'), (<java object 'java.util.ArrayList'>, 'selamlama'), (<java object 'java.util.ArrayList'>, 'selamlama'), (<java object 'java.util.ArrayList'>, 'selamlama'), (<java object 'java.util.ArrayList'>, 'hoşçakal'), (<java object 'java.util.ArrayList'>, 'hoşçakal'), (<java object 'java.util.ArrayList'>, 'hoşçakal'), (<java object 'java.util.ArrayList'>, 'hoşçakal'), (<java object 'java.util.ArrayList'>, 'teşekkürler'), (<java object 'java.util.ArrayList'>, 'teşekkürler'), (<java object 'java.util.ArrayList'>, 'teşekkürler'), (<java object 'java.util.ArrayList'>, 'teşekkürler'), (<java object 'java.util.ArrayList'>, 'öğeler'), (<java object 'java.util.ArrayList'>, 'öğeler'), (<java object 'java.util.ArrayList'>, 'öğeler'), (<java object 'java.util.ArrayList'>, 'öğeler'), (<java object 'java.util.ArrayList'>, 'ödemeler'), (<java object 'java.util.ArrayList'>, 'ödemeler'), (<java object 'java.util.ArrayList'>, 'ödemeler'), (<java object 'java.util.ArrayList'>, 'ödemeler'), (<java object 'java.util.ArrayList'>, 'teslimat'), (<java object 'java.util.ArrayList'>, 'teslimat'), (<java object 'java.util.ArrayList'>, 'teslimat')]\n",
      "[(<java object 'java.util.ArrayList'>, 'selamlama'), (<java object 'java.util.ArrayList'>, 'selamlama'), (<java object 'java.util.ArrayList'>, 'selamlama'), (<java object 'java.util.ArrayList'>, 'selamlama'), (<java object 'java.util.ArrayList'>, 'selamlama'), (<java object 'java.util.ArrayList'>, 'hoşçakal'), (<java object 'java.util.ArrayList'>, 'hoşçakal'), (<java object 'java.util.ArrayList'>, 'hoşçakal'), (<java object 'java.util.ArrayList'>, 'hoşçakal'), (<java object 'java.util.ArrayList'>, 'teşekkürler'), (<java object 'java.util.ArrayList'>, 'teşekkürler'), (<java object 'java.util.ArrayList'>, 'teşekkürler'), (<java object 'java.util.ArrayList'>, 'teşekkürler'), (<java object 'java.util.ArrayList'>, 'öğeler'), (<java object 'java.util.ArrayList'>, 'öğeler'), (<java object 'java.util.ArrayList'>, 'öğeler'), (<java object 'java.util.ArrayList'>, 'öğeler'), (<java object 'java.util.ArrayList'>, 'ödemeler'), (<java object 'java.util.ArrayList'>, 'ödemeler'), (<java object 'java.util.ArrayList'>, 'ödemeler'), (<java object 'java.util.ArrayList'>, 'ödemeler'), (<java object 'java.util.ArrayList'>, 'teslimat'), (<java object 'java.util.ArrayList'>, 'teslimat'), (<java object 'java.util.ArrayList'>, 'teslimat'), (<java object 'java.util.ArrayList'>, 'teslimat')]\n",
      "[(<java object 'java.util.ArrayList'>, 'selamlama'), (<java object 'java.util.ArrayList'>, 'selamlama'), (<java object 'java.util.ArrayList'>, 'selamlama'), (<java object 'java.util.ArrayList'>, 'selamlama'), (<java object 'java.util.ArrayList'>, 'selamlama'), (<java object 'java.util.ArrayList'>, 'hoşçakal'), (<java object 'java.util.ArrayList'>, 'hoşçakal'), (<java object 'java.util.ArrayList'>, 'hoşçakal'), (<java object 'java.util.ArrayList'>, 'hoşçakal'), (<java object 'java.util.ArrayList'>, 'teşekkürler'), (<java object 'java.util.ArrayList'>, 'teşekkürler'), (<java object 'java.util.ArrayList'>, 'teşekkürler'), (<java object 'java.util.ArrayList'>, 'teşekkürler'), (<java object 'java.util.ArrayList'>, 'öğeler'), (<java object 'java.util.ArrayList'>, 'öğeler'), (<java object 'java.util.ArrayList'>, 'öğeler'), (<java object 'java.util.ArrayList'>, 'öğeler'), (<java object 'java.util.ArrayList'>, 'ödemeler'), (<java object 'java.util.ArrayList'>, 'ödemeler'), (<java object 'java.util.ArrayList'>, 'ödemeler'), (<java object 'java.util.ArrayList'>, 'ödemeler'), (<java object 'java.util.ArrayList'>, 'teslimat'), (<java object 'java.util.ArrayList'>, 'teslimat'), (<java object 'java.util.ArrayList'>, 'teslimat'), (<java object 'java.util.ArrayList'>, 'teslimat'), (<java object 'java.util.ArrayList'>, 'teslimat')]\n"
     ]
    },
    {
     "name": "stdout",
     "output_type": "stream",
     "text": [
      "[(<java object 'java.util.ArrayList'>, 'selamlama'), (<java object 'java.util.ArrayList'>, 'selamlama'), (<java object 'java.util.ArrayList'>, 'selamlama'), (<java object 'java.util.ArrayList'>, 'selamlama'), (<java object 'java.util.ArrayList'>, 'selamlama'), (<java object 'java.util.ArrayList'>, 'hoşçakal'), (<java object 'java.util.ArrayList'>, 'hoşçakal'), (<java object 'java.util.ArrayList'>, 'hoşçakal'), (<java object 'java.util.ArrayList'>, 'hoşçakal'), (<java object 'java.util.ArrayList'>, 'teşekkürler'), (<java object 'java.util.ArrayList'>, 'teşekkürler'), (<java object 'java.util.ArrayList'>, 'teşekkürler'), (<java object 'java.util.ArrayList'>, 'teşekkürler'), (<java object 'java.util.ArrayList'>, 'öğeler'), (<java object 'java.util.ArrayList'>, 'öğeler'), (<java object 'java.util.ArrayList'>, 'öğeler'), (<java object 'java.util.ArrayList'>, 'öğeler'), (<java object 'java.util.ArrayList'>, 'ödemeler'), (<java object 'java.util.ArrayList'>, 'ödemeler'), (<java object 'java.util.ArrayList'>, 'ödemeler'), (<java object 'java.util.ArrayList'>, 'ödemeler'), (<java object 'java.util.ArrayList'>, 'teslimat'), (<java object 'java.util.ArrayList'>, 'teslimat'), (<java object 'java.util.ArrayList'>, 'teslimat'), (<java object 'java.util.ArrayList'>, 'teslimat'), (<java object 'java.util.ArrayList'>, 'teslimat'), (<java object 'java.util.ArrayList'>, 'komik')]\n",
      "[(<java object 'java.util.ArrayList'>, 'selamlama'), (<java object 'java.util.ArrayList'>, 'selamlama'), (<java object 'java.util.ArrayList'>, 'selamlama'), (<java object 'java.util.ArrayList'>, 'selamlama'), (<java object 'java.util.ArrayList'>, 'selamlama'), (<java object 'java.util.ArrayList'>, 'hoşçakal'), (<java object 'java.util.ArrayList'>, 'hoşçakal'), (<java object 'java.util.ArrayList'>, 'hoşçakal'), (<java object 'java.util.ArrayList'>, 'hoşçakal'), (<java object 'java.util.ArrayList'>, 'teşekkürler'), (<java object 'java.util.ArrayList'>, 'teşekkürler'), (<java object 'java.util.ArrayList'>, 'teşekkürler'), (<java object 'java.util.ArrayList'>, 'teşekkürler'), (<java object 'java.util.ArrayList'>, 'öğeler'), (<java object 'java.util.ArrayList'>, 'öğeler'), (<java object 'java.util.ArrayList'>, 'öğeler'), (<java object 'java.util.ArrayList'>, 'öğeler'), (<java object 'java.util.ArrayList'>, 'ödemeler'), (<java object 'java.util.ArrayList'>, 'ödemeler'), (<java object 'java.util.ArrayList'>, 'ödemeler'), (<java object 'java.util.ArrayList'>, 'ödemeler'), (<java object 'java.util.ArrayList'>, 'teslimat'), (<java object 'java.util.ArrayList'>, 'teslimat'), (<java object 'java.util.ArrayList'>, 'teslimat'), (<java object 'java.util.ArrayList'>, 'teslimat'), (<java object 'java.util.ArrayList'>, 'teslimat'), (<java object 'java.util.ArrayList'>, 'komik'), (<java object 'java.util.ArrayList'>, 'komik')]\n",
      "[(<java object 'java.util.ArrayList'>, 'selamlama'), (<java object 'java.util.ArrayList'>, 'selamlama'), (<java object 'java.util.ArrayList'>, 'selamlama'), (<java object 'java.util.ArrayList'>, 'selamlama'), (<java object 'java.util.ArrayList'>, 'selamlama'), (<java object 'java.util.ArrayList'>, 'hoşçakal'), (<java object 'java.util.ArrayList'>, 'hoşçakal'), (<java object 'java.util.ArrayList'>, 'hoşçakal'), (<java object 'java.util.ArrayList'>, 'hoşçakal'), (<java object 'java.util.ArrayList'>, 'teşekkürler'), (<java object 'java.util.ArrayList'>, 'teşekkürler'), (<java object 'java.util.ArrayList'>, 'teşekkürler'), (<java object 'java.util.ArrayList'>, 'teşekkürler'), (<java object 'java.util.ArrayList'>, 'öğeler'), (<java object 'java.util.ArrayList'>, 'öğeler'), (<java object 'java.util.ArrayList'>, 'öğeler'), (<java object 'java.util.ArrayList'>, 'öğeler'), (<java object 'java.util.ArrayList'>, 'ödemeler'), (<java object 'java.util.ArrayList'>, 'ödemeler'), (<java object 'java.util.ArrayList'>, 'ödemeler'), (<java object 'java.util.ArrayList'>, 'ödemeler'), (<java object 'java.util.ArrayList'>, 'teslimat'), (<java object 'java.util.ArrayList'>, 'teslimat'), (<java object 'java.util.ArrayList'>, 'teslimat'), (<java object 'java.util.ArrayList'>, 'teslimat'), (<java object 'java.util.ArrayList'>, 'teslimat'), (<java object 'java.util.ArrayList'>, 'komik'), (<java object 'java.util.ArrayList'>, 'komik'), (<java object 'java.util.ArrayList'>, 'komik')]\n",
      "[(<java object 'java.util.ArrayList'>, 'selamlama'), (<java object 'java.util.ArrayList'>, 'selamlama'), (<java object 'java.util.ArrayList'>, 'selamlama'), (<java object 'java.util.ArrayList'>, 'selamlama'), (<java object 'java.util.ArrayList'>, 'selamlama'), (<java object 'java.util.ArrayList'>, 'hoşçakal'), (<java object 'java.util.ArrayList'>, 'hoşçakal'), (<java object 'java.util.ArrayList'>, 'hoşçakal'), (<java object 'java.util.ArrayList'>, 'hoşçakal'), (<java object 'java.util.ArrayList'>, 'teşekkürler'), (<java object 'java.util.ArrayList'>, 'teşekkürler'), (<java object 'java.util.ArrayList'>, 'teşekkürler'), (<java object 'java.util.ArrayList'>, 'teşekkürler'), (<java object 'java.util.ArrayList'>, 'öğeler'), (<java object 'java.util.ArrayList'>, 'öğeler'), (<java object 'java.util.ArrayList'>, 'öğeler'), (<java object 'java.util.ArrayList'>, 'öğeler'), (<java object 'java.util.ArrayList'>, 'ödemeler'), (<java object 'java.util.ArrayList'>, 'ödemeler'), (<java object 'java.util.ArrayList'>, 'ödemeler'), (<java object 'java.util.ArrayList'>, 'ödemeler'), (<java object 'java.util.ArrayList'>, 'teslimat'), (<java object 'java.util.ArrayList'>, 'teslimat'), (<java object 'java.util.ArrayList'>, 'teslimat'), (<java object 'java.util.ArrayList'>, 'teslimat'), (<java object 'java.util.ArrayList'>, 'teslimat'), (<java object 'java.util.ArrayList'>, 'komik'), (<java object 'java.util.ArrayList'>, 'komik'), (<java object 'java.util.ArrayList'>, 'komik'), (<java object 'java.util.ArrayList'>, 'komik')]\n",
      "[(<java object 'java.util.ArrayList'>, 'selamlama'), (<java object 'java.util.ArrayList'>, 'selamlama'), (<java object 'java.util.ArrayList'>, 'selamlama'), (<java object 'java.util.ArrayList'>, 'selamlama'), (<java object 'java.util.ArrayList'>, 'selamlama'), (<java object 'java.util.ArrayList'>, 'hoşçakal'), (<java object 'java.util.ArrayList'>, 'hoşçakal'), (<java object 'java.util.ArrayList'>, 'hoşçakal'), (<java object 'java.util.ArrayList'>, 'hoşçakal'), (<java object 'java.util.ArrayList'>, 'teşekkürler'), (<java object 'java.util.ArrayList'>, 'teşekkürler'), (<java object 'java.util.ArrayList'>, 'teşekkürler'), (<java object 'java.util.ArrayList'>, 'teşekkürler'), (<java object 'java.util.ArrayList'>, 'öğeler'), (<java object 'java.util.ArrayList'>, 'öğeler'), (<java object 'java.util.ArrayList'>, 'öğeler'), (<java object 'java.util.ArrayList'>, 'öğeler'), (<java object 'java.util.ArrayList'>, 'ödemeler'), (<java object 'java.util.ArrayList'>, 'ödemeler'), (<java object 'java.util.ArrayList'>, 'ödemeler'), (<java object 'java.util.ArrayList'>, 'ödemeler'), (<java object 'java.util.ArrayList'>, 'teslimat'), (<java object 'java.util.ArrayList'>, 'teslimat'), (<java object 'java.util.ArrayList'>, 'teslimat'), (<java object 'java.util.ArrayList'>, 'teslimat'), (<java object 'java.util.ArrayList'>, 'teslimat'), (<java object 'java.util.ArrayList'>, 'komik'), (<java object 'java.util.ArrayList'>, 'komik'), (<java object 'java.util.ArrayList'>, 'komik'), (<java object 'java.util.ArrayList'>, 'komik'), (<java object 'java.util.ArrayList'>, 'hava')]\n",
      "[(<java object 'java.util.ArrayList'>, 'selamlama'), (<java object 'java.util.ArrayList'>, 'selamlama'), (<java object 'java.util.ArrayList'>, 'selamlama'), (<java object 'java.util.ArrayList'>, 'selamlama'), (<java object 'java.util.ArrayList'>, 'selamlama'), (<java object 'java.util.ArrayList'>, 'hoşçakal'), (<java object 'java.util.ArrayList'>, 'hoşçakal'), (<java object 'java.util.ArrayList'>, 'hoşçakal'), (<java object 'java.util.ArrayList'>, 'hoşçakal'), (<java object 'java.util.ArrayList'>, 'teşekkürler'), (<java object 'java.util.ArrayList'>, 'teşekkürler'), (<java object 'java.util.ArrayList'>, 'teşekkürler'), (<java object 'java.util.ArrayList'>, 'teşekkürler'), (<java object 'java.util.ArrayList'>, 'öğeler'), (<java object 'java.util.ArrayList'>, 'öğeler'), (<java object 'java.util.ArrayList'>, 'öğeler'), (<java object 'java.util.ArrayList'>, 'öğeler'), (<java object 'java.util.ArrayList'>, 'ödemeler'), (<java object 'java.util.ArrayList'>, 'ödemeler'), (<java object 'java.util.ArrayList'>, 'ödemeler'), (<java object 'java.util.ArrayList'>, 'ödemeler'), (<java object 'java.util.ArrayList'>, 'teslimat'), (<java object 'java.util.ArrayList'>, 'teslimat'), (<java object 'java.util.ArrayList'>, 'teslimat'), (<java object 'java.util.ArrayList'>, 'teslimat'), (<java object 'java.util.ArrayList'>, 'teslimat'), (<java object 'java.util.ArrayList'>, 'komik'), (<java object 'java.util.ArrayList'>, 'komik'), (<java object 'java.util.ArrayList'>, 'komik'), (<java object 'java.util.ArrayList'>, 'komik'), (<java object 'java.util.ArrayList'>, 'hava'), (<java object 'java.util.ArrayList'>, 'hava')]\n"
     ]
    },
    {
     "name": "stdout",
     "output_type": "stream",
     "text": [
      "[(<java object 'java.util.ArrayList'>, 'selamlama'), (<java object 'java.util.ArrayList'>, 'selamlama'), (<java object 'java.util.ArrayList'>, 'selamlama'), (<java object 'java.util.ArrayList'>, 'selamlama'), (<java object 'java.util.ArrayList'>, 'selamlama'), (<java object 'java.util.ArrayList'>, 'hoşçakal'), (<java object 'java.util.ArrayList'>, 'hoşçakal'), (<java object 'java.util.ArrayList'>, 'hoşçakal'), (<java object 'java.util.ArrayList'>, 'hoşçakal'), (<java object 'java.util.ArrayList'>, 'teşekkürler'), (<java object 'java.util.ArrayList'>, 'teşekkürler'), (<java object 'java.util.ArrayList'>, 'teşekkürler'), (<java object 'java.util.ArrayList'>, 'teşekkürler'), (<java object 'java.util.ArrayList'>, 'öğeler'), (<java object 'java.util.ArrayList'>, 'öğeler'), (<java object 'java.util.ArrayList'>, 'öğeler'), (<java object 'java.util.ArrayList'>, 'öğeler'), (<java object 'java.util.ArrayList'>, 'ödemeler'), (<java object 'java.util.ArrayList'>, 'ödemeler'), (<java object 'java.util.ArrayList'>, 'ödemeler'), (<java object 'java.util.ArrayList'>, 'ödemeler'), (<java object 'java.util.ArrayList'>, 'teslimat'), (<java object 'java.util.ArrayList'>, 'teslimat'), (<java object 'java.util.ArrayList'>, 'teslimat'), (<java object 'java.util.ArrayList'>, 'teslimat'), (<java object 'java.util.ArrayList'>, 'teslimat'), (<java object 'java.util.ArrayList'>, 'komik'), (<java object 'java.util.ArrayList'>, 'komik'), (<java object 'java.util.ArrayList'>, 'komik'), (<java object 'java.util.ArrayList'>, 'komik'), (<java object 'java.util.ArrayList'>, 'hava'), (<java object 'java.util.ArrayList'>, 'hava'), (<java object 'java.util.ArrayList'>, 'hava')]\n",
      "[(<java object 'java.util.ArrayList'>, 'selamlama'), (<java object 'java.util.ArrayList'>, 'selamlama'), (<java object 'java.util.ArrayList'>, 'selamlama'), (<java object 'java.util.ArrayList'>, 'selamlama'), (<java object 'java.util.ArrayList'>, 'selamlama'), (<java object 'java.util.ArrayList'>, 'hoşçakal'), (<java object 'java.util.ArrayList'>, 'hoşçakal'), (<java object 'java.util.ArrayList'>, 'hoşçakal'), (<java object 'java.util.ArrayList'>, 'hoşçakal'), (<java object 'java.util.ArrayList'>, 'teşekkürler'), (<java object 'java.util.ArrayList'>, 'teşekkürler'), (<java object 'java.util.ArrayList'>, 'teşekkürler'), (<java object 'java.util.ArrayList'>, 'teşekkürler'), (<java object 'java.util.ArrayList'>, 'öğeler'), (<java object 'java.util.ArrayList'>, 'öğeler'), (<java object 'java.util.ArrayList'>, 'öğeler'), (<java object 'java.util.ArrayList'>, 'öğeler'), (<java object 'java.util.ArrayList'>, 'ödemeler'), (<java object 'java.util.ArrayList'>, 'ödemeler'), (<java object 'java.util.ArrayList'>, 'ödemeler'), (<java object 'java.util.ArrayList'>, 'ödemeler'), (<java object 'java.util.ArrayList'>, 'teslimat'), (<java object 'java.util.ArrayList'>, 'teslimat'), (<java object 'java.util.ArrayList'>, 'teslimat'), (<java object 'java.util.ArrayList'>, 'teslimat'), (<java object 'java.util.ArrayList'>, 'teslimat'), (<java object 'java.util.ArrayList'>, 'komik'), (<java object 'java.util.ArrayList'>, 'komik'), (<java object 'java.util.ArrayList'>, 'komik'), (<java object 'java.util.ArrayList'>, 'komik'), (<java object 'java.util.ArrayList'>, 'hava'), (<java object 'java.util.ArrayList'>, 'hava'), (<java object 'java.util.ArrayList'>, 'hava'), (<java object 'java.util.ArrayList'>, 'hava')]\n",
      "[(<java object 'java.util.ArrayList'>, 'selamlama'), (<java object 'java.util.ArrayList'>, 'selamlama'), (<java object 'java.util.ArrayList'>, 'selamlama'), (<java object 'java.util.ArrayList'>, 'selamlama'), (<java object 'java.util.ArrayList'>, 'selamlama'), (<java object 'java.util.ArrayList'>, 'hoşçakal'), (<java object 'java.util.ArrayList'>, 'hoşçakal'), (<java object 'java.util.ArrayList'>, 'hoşçakal'), (<java object 'java.util.ArrayList'>, 'hoşçakal'), (<java object 'java.util.ArrayList'>, 'teşekkürler'), (<java object 'java.util.ArrayList'>, 'teşekkürler'), (<java object 'java.util.ArrayList'>, 'teşekkürler'), (<java object 'java.util.ArrayList'>, 'teşekkürler'), (<java object 'java.util.ArrayList'>, 'öğeler'), (<java object 'java.util.ArrayList'>, 'öğeler'), (<java object 'java.util.ArrayList'>, 'öğeler'), (<java object 'java.util.ArrayList'>, 'öğeler'), (<java object 'java.util.ArrayList'>, 'ödemeler'), (<java object 'java.util.ArrayList'>, 'ödemeler'), (<java object 'java.util.ArrayList'>, 'ödemeler'), (<java object 'java.util.ArrayList'>, 'ödemeler'), (<java object 'java.util.ArrayList'>, 'teslimat'), (<java object 'java.util.ArrayList'>, 'teslimat'), (<java object 'java.util.ArrayList'>, 'teslimat'), (<java object 'java.util.ArrayList'>, 'teslimat'), (<java object 'java.util.ArrayList'>, 'teslimat'), (<java object 'java.util.ArrayList'>, 'komik'), (<java object 'java.util.ArrayList'>, 'komik'), (<java object 'java.util.ArrayList'>, 'komik'), (<java object 'java.util.ArrayList'>, 'komik'), (<java object 'java.util.ArrayList'>, 'hava'), (<java object 'java.util.ArrayList'>, 'hava'), (<java object 'java.util.ArrayList'>, 'hava'), (<java object 'java.util.ArrayList'>, 'hava'), (<java object 'java.util.ArrayList'>, 'musteri')]\n",
      "[(<java object 'java.util.ArrayList'>, 'selamlama'), (<java object 'java.util.ArrayList'>, 'selamlama'), (<java object 'java.util.ArrayList'>, 'selamlama'), (<java object 'java.util.ArrayList'>, 'selamlama'), (<java object 'java.util.ArrayList'>, 'selamlama'), (<java object 'java.util.ArrayList'>, 'hoşçakal'), (<java object 'java.util.ArrayList'>, 'hoşçakal'), (<java object 'java.util.ArrayList'>, 'hoşçakal'), (<java object 'java.util.ArrayList'>, 'hoşçakal'), (<java object 'java.util.ArrayList'>, 'teşekkürler'), (<java object 'java.util.ArrayList'>, 'teşekkürler'), (<java object 'java.util.ArrayList'>, 'teşekkürler'), (<java object 'java.util.ArrayList'>, 'teşekkürler'), (<java object 'java.util.ArrayList'>, 'öğeler'), (<java object 'java.util.ArrayList'>, 'öğeler'), (<java object 'java.util.ArrayList'>, 'öğeler'), (<java object 'java.util.ArrayList'>, 'öğeler'), (<java object 'java.util.ArrayList'>, 'ödemeler'), (<java object 'java.util.ArrayList'>, 'ödemeler'), (<java object 'java.util.ArrayList'>, 'ödemeler'), (<java object 'java.util.ArrayList'>, 'ödemeler'), (<java object 'java.util.ArrayList'>, 'teslimat'), (<java object 'java.util.ArrayList'>, 'teslimat'), (<java object 'java.util.ArrayList'>, 'teslimat'), (<java object 'java.util.ArrayList'>, 'teslimat'), (<java object 'java.util.ArrayList'>, 'teslimat'), (<java object 'java.util.ArrayList'>, 'komik'), (<java object 'java.util.ArrayList'>, 'komik'), (<java object 'java.util.ArrayList'>, 'komik'), (<java object 'java.util.ArrayList'>, 'komik'), (<java object 'java.util.ArrayList'>, 'hava'), (<java object 'java.util.ArrayList'>, 'hava'), (<java object 'java.util.ArrayList'>, 'hava'), (<java object 'java.util.ArrayList'>, 'hava'), (<java object 'java.util.ArrayList'>, 'musteri'), (<java object 'java.util.ArrayList'>, 'musteri')]\n",
      "[(<java object 'java.util.ArrayList'>, 'selamlama'), (<java object 'java.util.ArrayList'>, 'selamlama'), (<java object 'java.util.ArrayList'>, 'selamlama'), (<java object 'java.util.ArrayList'>, 'selamlama'), (<java object 'java.util.ArrayList'>, 'selamlama'), (<java object 'java.util.ArrayList'>, 'hoşçakal'), (<java object 'java.util.ArrayList'>, 'hoşçakal'), (<java object 'java.util.ArrayList'>, 'hoşçakal'), (<java object 'java.util.ArrayList'>, 'hoşçakal'), (<java object 'java.util.ArrayList'>, 'teşekkürler'), (<java object 'java.util.ArrayList'>, 'teşekkürler'), (<java object 'java.util.ArrayList'>, 'teşekkürler'), (<java object 'java.util.ArrayList'>, 'teşekkürler'), (<java object 'java.util.ArrayList'>, 'öğeler'), (<java object 'java.util.ArrayList'>, 'öğeler'), (<java object 'java.util.ArrayList'>, 'öğeler'), (<java object 'java.util.ArrayList'>, 'öğeler'), (<java object 'java.util.ArrayList'>, 'ödemeler'), (<java object 'java.util.ArrayList'>, 'ödemeler'), (<java object 'java.util.ArrayList'>, 'ödemeler'), (<java object 'java.util.ArrayList'>, 'ödemeler'), (<java object 'java.util.ArrayList'>, 'teslimat'), (<java object 'java.util.ArrayList'>, 'teslimat'), (<java object 'java.util.ArrayList'>, 'teslimat'), (<java object 'java.util.ArrayList'>, 'teslimat'), (<java object 'java.util.ArrayList'>, 'teslimat'), (<java object 'java.util.ArrayList'>, 'komik'), (<java object 'java.util.ArrayList'>, 'komik'), (<java object 'java.util.ArrayList'>, 'komik'), (<java object 'java.util.ArrayList'>, 'komik'), (<java object 'java.util.ArrayList'>, 'hava'), (<java object 'java.util.ArrayList'>, 'hava'), (<java object 'java.util.ArrayList'>, 'hava'), (<java object 'java.util.ArrayList'>, 'hava'), (<java object 'java.util.ArrayList'>, 'musteri'), (<java object 'java.util.ArrayList'>, 'musteri'), (<java object 'java.util.ArrayList'>, 'musteri')]\n"
     ]
    }
   ],
   "source": [
    "for intent in intents['intents']: # Tagları , kelimeleri vb. ayırma işlemlerini burada yapıyoruz\n",
    "    tag=intent['tag']\n",
    "    tags.append(tag)\n",
    "    for pattern in intent['patterns']:\n",
    "        pattern=normalizer(pattern)################################buraya normalize koydum\n",
    "        w=tokenize(pattern)\n",
    "        all_words.extend(w)\n",
    "        xy.append((w,tag))\n",
    "        print(xy)\n"
   ]
  },
  {
   "cell_type": "code",
   "execution_count": 5,
   "metadata": {},
   "outputs": [],
   "source": [
    "ignore_words=['?','.','!',',',';',':']"
   ]
  },
  {
   "cell_type": "code",
   "execution_count": null,
   "metadata": {},
   "outputs": [],
   "source": [
    "all_words=[stem(w) for w in all_words if w not in ignore_words] # burada noktalamaları kaldırılıyor.\n",
    "print(all_words)"
   ]
  },
  {
   "cell_type": "code",
   "execution_count": null,
   "metadata": {
    "scrolled": false
   },
   "outputs": [],
   "source": [
    "all_words=sorted(set(all_words)) #aynı kelimeden 1den fazla varsa tek sayıya düşüyor ve sralıyor.\n",
    "tags= sorted(set(tags))\n",
    "print(xy)"
   ]
  },
  {
   "cell_type": "code",
   "execution_count": null,
   "metadata": {},
   "outputs": [],
   "source": []
  },
  {
   "cell_type": "code",
   "execution_count": null,
   "metadata": {},
   "outputs": [],
   "source": []
  },
  {
   "cell_type": "code",
   "execution_count": null,
   "metadata": {},
   "outputs": [],
   "source": [
    "X_train=[]\n",
    "y_train=[]"
   ]
  },
  {
   "cell_type": "code",
   "execution_count": null,
   "metadata": {},
   "outputs": [],
   "source": []
  },
  {
   "cell_type": "code",
   "execution_count": null,
   "metadata": {},
   "outputs": [],
   "source": []
  },
  {
   "cell_type": "code",
   "execution_count": null,
   "metadata": {},
   "outputs": [],
   "source": [
    "for (pattern_sentence , tag )in xy:\n",
    "    bag=bag_of_word(pattern_sentence,all_words)\n",
    "    X_train.append(bag)\n",
    "    \n",
    "    label=tags.index(tag)\n",
    "    y_train.append(label)\n",
    "\n",
    "X_train=np.array(X_train)\n",
    "y_train=np.array(y_train)\n",
    "\n",
    "print(X_train)"
   ]
  },
  {
   "cell_type": "code",
   "execution_count": null,
   "metadata": {},
   "outputs": [],
   "source": []
  },
  {
   "cell_type": "code",
   "execution_count": null,
   "metadata": {},
   "outputs": [],
   "source": [
    "class ChatDataset(Dataset):\n",
    "    def __init__(self):\n",
    "        self.n_samples=len(X_train)\n",
    "        self.x_data=X_train\n",
    "        self.y_data=y_train\n",
    "        \n",
    "    def __getitem__(self,index):\n",
    "        return self.x_data[index],self.y_data[index]\n",
    "    \n",
    "    def __len__(self):\n",
    "        return self.n_samples\n",
    "    "
   ]
  },
  {
   "cell_type": "code",
   "execution_count": null,
   "metadata": {
    "scrolled": true
   },
   "outputs": [],
   "source": [
    "    "
   ]
  },
  {
   "cell_type": "code",
   "execution_count": null,
   "metadata": {},
   "outputs": [],
   "source": []
  },
  {
   "cell_type": "code",
   "execution_count": null,
   "metadata": {},
   "outputs": [],
   "source": [
    "\n",
    "batch_size=8\n",
    "\n",
    "hidden_size=8\n",
    "output_size=len(tags)\n",
    "input_size=len(X_train[0])\n",
    "\n",
    "learning_rate=0.001\n",
    "num_epochs=1000\n",
    "\n",
    "#print(input_size,len(all_words))\n",
    "#print(output_size,tags)"
   ]
  },
  {
   "cell_type": "code",
   "execution_count": null,
   "metadata": {},
   "outputs": [],
   "source": []
  },
  {
   "cell_type": "code",
   "execution_count": null,
   "metadata": {},
   "outputs": [],
   "source": []
  },
  {
   "cell_type": "code",
   "execution_count": null,
   "metadata": {},
   "outputs": [],
   "source": [
    "\n",
    "\n",
    "dataset=ChatDataset()\n",
    "train_loader=DataLoader(dataset=dataset,batch_size=batch_size, shuffle=True, num_workers=0)"
   ]
  },
  {
   "cell_type": "code",
   "execution_count": null,
   "metadata": {},
   "outputs": [],
   "source": []
  },
  {
   "cell_type": "code",
   "execution_count": null,
   "metadata": {},
   "outputs": [],
   "source": []
  },
  {
   "cell_type": "code",
   "execution_count": null,
   "metadata": {},
   "outputs": [],
   "source": [
    "device=torch.device('cuda' if torch.cuda.is_available() else 'cpu')"
   ]
  },
  {
   "cell_type": "code",
   "execution_count": null,
   "metadata": {},
   "outputs": [],
   "source": [
    "model=NeuralNet(input_size,hidden_size,output_size).to(device)\n",
    "\n"
   ]
  },
  {
   "cell_type": "code",
   "execution_count": null,
   "metadata": {},
   "outputs": [],
   "source": [
    "# loss and optimizer \n",
    "\n",
    "criterion=nn.CrossEntropyLoss()\n",
    "optimizer=torch.optim.Adam(model.parameters(),lr=learning_rate)"
   ]
  },
  {
   "cell_type": "code",
   "execution_count": null,
   "metadata": {},
   "outputs": [],
   "source": []
  },
  {
   "cell_type": "code",
   "execution_count": null,
   "metadata": {},
   "outputs": [],
   "source": []
  },
  {
   "cell_type": "code",
   "execution_count": null,
   "metadata": {},
   "outputs": [],
   "source": []
  },
  {
   "cell_type": "code",
   "execution_count": null,
   "metadata": {},
   "outputs": [],
   "source": [
    "\n",
    "for epoch in range(num_epochs):\n",
    "    for (words, labels) in train_loader:\n",
    "        words = words.to(device)\n",
    "        labels = labels.to(device)\n",
    "        \n",
    "        # Forward pass\n",
    "        outputs = model(words)\n",
    "        # if y would be one-hot, we must apply\n",
    "        # labels = torch.max(labels, 1)[1]\n",
    "        loss = criterion(outputs, labels.long())\n",
    "        \n",
    "        # Backward and optimize\n",
    "        optimizer.zero_grad()\n",
    "        loss.backward()\n",
    "        optimizer.step()\n",
    "        \n",
    "    if (epoch+1) % 100 == 0:\n",
    "        print (f'Epoch [{epoch+1}/{num_epochs}], Loss: {loss.item():.4f}')\n",
    "\n",
    "\n",
    "print(f'final loss: {loss.item():.4f}')"
   ]
  },
  {
   "cell_type": "code",
   "execution_count": null,
   "metadata": {},
   "outputs": [],
   "source": [
    "data={\n",
    "    \"model_state\":model.state_dict(),\n",
    "    \"input_size\":input_size,\n",
    "    \"output_size\":output_size,\n",
    "    \"hiddent_size\":hidden_size,\n",
    "    \"all_words\":all_words,\n",
    "    \"tags\":tags\n",
    "}"
   ]
  },
  {
   "cell_type": "code",
   "execution_count": null,
   "metadata": {},
   "outputs": [],
   "source": []
  },
  {
   "cell_type": "code",
   "execution_count": null,
   "metadata": {},
   "outputs": [],
   "source": []
  },
  {
   "cell_type": "code",
   "execution_count": null,
   "metadata": {},
   "outputs": [],
   "source": [
    "FILE = \"data.pth\"\n",
    "torch.save(data,FILE)\n",
    "\n",
    "print(f'eğitim tamamlandı. dosya {FILE} olarak kaydedildi')"
   ]
  },
  {
   "cell_type": "code",
   "execution_count": null,
   "metadata": {},
   "outputs": [],
   "source": []
  },
  {
   "cell_type": "code",
   "execution_count": null,
   "metadata": {},
   "outputs": [],
   "source": []
  },
  {
   "cell_type": "code",
   "execution_count": null,
   "metadata": {},
   "outputs": [],
   "source": []
  },
  {
   "cell_type": "code",
   "execution_count": null,
   "metadata": {},
   "outputs": [],
   "source": []
  },
  {
   "cell_type": "code",
   "execution_count": null,
   "metadata": {},
   "outputs": [],
   "source": []
  },
  {
   "cell_type": "code",
   "execution_count": null,
   "metadata": {},
   "outputs": [],
   "source": []
  }
 ],
 "metadata": {
  "kernelspec": {
   "display_name": "Python 3.7 (tensorflow)",
   "language": "python",
   "name": "tensorflow"
  },
  "language_info": {
   "codemirror_mode": {
    "name": "ipython",
    "version": 3
   },
   "file_extension": ".py",
   "mimetype": "text/x-python",
   "name": "python",
   "nbconvert_exporter": "python",
   "pygments_lexer": "ipython3",
   "version": "3.7.7"
  }
 },
 "nbformat": 4,
 "nbformat_minor": 4
}
