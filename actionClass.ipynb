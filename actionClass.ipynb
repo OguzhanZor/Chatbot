{
 "cells": [
  {
   "cell_type": "code",
   "execution_count": null,
   "metadata": {},
   "outputs": [],
   "source": []
  },
  {
   "cell_type": "code",
   "execution_count": null,
   "metadata": {},
   "outputs": [],
   "source": []
  },
  {
   "cell_type": "code",
   "execution_count": 1,
   "metadata": {},
   "outputs": [
    {
     "name": "stdout",
     "output_type": "stream",
     "text": [
      "importing Jupyter notebook from nltk_utils.ipynb\n"
     ]
    }
   ],
   "source": [
    "import import_ipynb\n",
    "from nltk_utils import speechTotext\n",
    "import urllib.request\n",
    "import json\n",
    "import time\n",
    "\n",
    "\n",
    "\n",
    "\n",
    "from werkzeug.wrappers import Request, Response\n",
    "from flask import Flask, jsonify, request\n"
   ]
  },
  {
   "cell_type": "code",
   "execution_count": null,
   "metadata": {},
   "outputs": [],
   "source": [
    "\n",
    "        "
   ]
  },
  {
   "cell_type": "code",
   "execution_count": null,
   "metadata": {},
   "outputs": [],
   "source": []
  },
  {
   "cell_type": "code",
   "execution_count": 2,
   "metadata": {},
   "outputs": [],
   "source": [
    "def action_Yont(bot_name, action=\"\", parameters=\"\"):\n",
    "   \n",
    "    if action==\"2\":\n",
    "        return havaDurumu(parameters)\n",
    "    #else if şart:\n",
    "        #fonksiyon çağırımı\n",
    "    else:\n",
    "        return \"yok\""
   ]
  },
  {
   "cell_type": "code",
   "execution_count": 3,
   "metadata": {},
   "outputs": [],
   "source": []
  },
  {
   "cell_type": "code",
   "execution_count": 4,
   "metadata": {},
   "outputs": [],
   "source": []
  },
  {
   "cell_type": "code",
   "execution_count": 5,
   "metadata": {},
   "outputs": [],
   "source": [
    "def havaDurumu(sehir,chat_id):\n",
    "    if sehir==\"\" or sehir==\" \":\n",
    "        sehir2=input(\"istedigin sehrin adını gir\")\n",
    "        return havaDurumu(sehir2)\n",
    "    else:\n",
    "\n",
    "        # importing requests and json\n",
    "        import requests, json\n",
    "        # base URL\n",
    "        BASE_URL = \"https://api.openweathermap.org/data/2.5/weather?\"\n",
    "        CITY = sehir\n",
    "        API_KEY = \"8f43360b7af99ade7d321c81aebdcc28\"\n",
    "        # upadting the URL\n",
    "        URL = BASE_URL + \"q=\" + CITY + \"&appid=\" + API_KEY+\"&lang=tr\"\n",
    "        # HTTP request\n",
    "        response = requests.get(URL)\n",
    "        # checking the status code of the request\n",
    "        if response.status_code == 200:\n",
    "           # getting data in the json format\n",
    "            data = response.json()\n",
    "           # getting the main dict block\n",
    "            main = data['main']\n",
    "           # getting temperature\n",
    "            temperature = main['temp']\n",
    "        \n",
    "            temperature=int(temperature/10)\n",
    "\n",
    "            report = data['weather']\n",
    "\n",
    "            return str(\"Şehir: \"+CITY+\" Sıcaklık: \"+str(temperature)+\" Hava Durumu: \"+report[0]['description'])\n",
    "        else:\n",
    "            return \"Error in the HTTP request\""
   ]
  },
  {
   "cell_type": "code",
   "execution_count": null,
   "metadata": {},
   "outputs": [],
   "source": [
    "\n"
   ]
  }
 ],
 "metadata": {
  "kernelspec": {
   "display_name": "Python 3.7 (tensorflow)",
   "language": "python",
   "name": "tensorflow"
  },
  "language_info": {
   "codemirror_mode": {
    "name": "ipython",
    "version": 3
   },
   "file_extension": ".py",
   "mimetype": "text/x-python",
   "name": "python",
   "nbconvert_exporter": "python",
   "pygments_lexer": "ipython3",
   "version": "3.7.7"
  }
 },
 "nbformat": 4,
 "nbformat_minor": 4
}
