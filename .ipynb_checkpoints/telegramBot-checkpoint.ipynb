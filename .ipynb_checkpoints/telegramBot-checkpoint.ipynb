{
 "cells": [
  {
   "cell_type": "code",
   "execution_count": 1,
   "metadata": {},
   "outputs": [
    {
     "name": "stdout",
     "output_type": "stream",
     "text": [
      "importing Jupyter notebook from telegramAction.ipynb\n",
      "importing Jupyter notebook from nltk_utils.ipynb\n",
      "importing Jupyter notebook from telegramChat.ipynb\n",
      "importing Jupyter notebook from model.ipynb\n",
      "{'intents': [{'tag': 'selamlama', 'patterns': ['Selam', 'Nasılsın', 'Kimse Yok Mu?', 'Merhaba', 'İyi günler'], 'responses': ['Hey :-)', 'Merhaba, ziyaret ettiğiniz için teşekkürler', 'Merhabalar, sizin için ne yapabilirim?', 'Merhabalar, nasıl yardımcı olabilirim?'], 'action': ['']}, {'tag': 'hoşçakal', 'patterns': ['Güle güle', 'Sonra görüşürüz', 'Görüşürüz', 'By By'], 'responses': ['Sonra görüşürüz, ziyaret ettiğiniz için teşekkürler', 'İyi günler', 'Güle güle! Kısa süre sonra tekrar gelin.'], 'action': ['']}, {'tag': 'teşekkürler', 'patterns': ['Teşekkürler', 'Sağol', 'Yardımcı oldu', 'Çok teşekkür ederim!'], 'responses': ['Yardımcı olmaktan mutluluk duyarız!', 'Her zaman!', 'Memnuniyetle'], 'action': ['']}, {'tag': 'öğeler', 'patterns': ['Neler satıyorsun?', 'Hangi eşyalarınız var?', 'Ne tür eşyalar var?', 'Ne satıyorsun?'], 'responses': ['Kahve ve çay satıyoruz', 'Kahve ve çayımız var'], 'action': ['']}, {'tag': 'ödemeler', 'patterns': ['Kredi kartı kabul ediyor musunuz?', 'MasterCard kabul ediyor musunuz?', 'Paypal ile ödeme yapabilir miyim?', 'Yalnızca nakit misiniz?'], 'responses': ['Nakit, VISA, Mastercard ve Paypal kabul ediyoruz', \"Nakit yanında çoğu kredi kartını ve Paypal'ı kabul ediyoruz\"], 'action': ['']}, {'tag': 'teslimat', 'patterns': ['Ne zamana gönderebilirsiniz?', 'Ne zamana kadar teslim edebilirsiniz?', 'Teslimat ne kadar sürer?', 'Nakliye ne kadar sürer?', 'Teslimatımı ne zaman alacağım?'], 'responses': ['Teslimat 2-4 gün sürer', 'Nakliye 2-4 gün sürer'], 'action': ['']}, {'tag': 'komik', 'patterns': ['Bana şaka yapabilir misin?', 'Bana bir fıkra anlat!', 'Bana komik bir şey söyle!', 'Bir şaka biliyor musun?'], 'responses': ['Yenilikçi neden ağzını yaktı? Kahveyi soğumadan içti.', 'Oğlu üniversiteye gittiğinde bufalo ne dedi? Bison.'], 'action': ['']}, {'tag': 'hava', 'patterns': ['Hava nasıl?', 'Havayı söyle!', 'Nasıl hava?', 'Hava durumu.'], 'responses': [''], 'action': ['2']}, {'tag': 'musteri', 'patterns': ['Müsteri kayıt', 'Müsteri kaydolmak', 'Müsteri yeni kayıt'], 'responses': [''], 'action': ['3']}]}\n",
      "['selamlama', 'hoşçakal', 'teşekkürler', 'öğeler', 'ödemeler', 'teslimat', 'komik', 'hava', 'musteri']\n",
      "['', '', '', '', '', '', '', '2', '3']\n",
      "['hava', 'hoşçakal', 'komik', 'musteri', 'selamlama', 'teslimat', 'teşekkürler', 'ödemeler', 'öğeler']\n",
      "['2', '', '', '3', '', '', '', '', '']\n"
     ]
    }
   ],
   "source": [
    "from flask import Flask, jsonify, request\n",
    "\n",
    "import urllib.request\n",
    "import urllib.parse\n",
    "import json\n",
    "\n",
    "\n",
    "from werkzeug.wrappers import Request, Response\n",
    "\n",
    "import import_ipynb\n",
    "\n",
    "from telegramAction import action_Yont\n",
    "\n",
    "from telegramChat import chat"
   ]
  },
  {
   "cell_type": "code",
   "execution_count": 2,
   "metadata": {},
   "outputs": [],
   "source": [
    "def text_fonk(aa, some_json):\n",
    "    if aa[1] == 'edited_message':\n",
    "        chat_id = some_json['edited_message']['chat']['id']\n",
    "        msg = some_json['edited_message']['text']\n",
    "        print(some_json['edited_message']['chat']['id'])\n",
    "        print(some_json['edited_message']['text'])\n",
    "        return chat_id,msg\n",
    "    else:\n",
    "        chat_id = some_json['message']['chat']['id']\n",
    "        msg = some_json['message']['text']\n",
    "        print(some_json['message']['chat']['id'])\n",
    "        print(some_json['message']['text'])\n",
    "        return chat_id,msg\n"
   ]
  },
  {
   "cell_type": "code",
   "execution_count": 3,
   "metadata": {},
   "outputs": [],
   "source": [
    "def send_fonk(chat_id,text):\n",
    "    #if text == 'merhaba':\n",
    "      #  kk = 'kaybol'\n",
    "    #elif text != 'merhaba':\n",
    "      #  kk = 'olmadı be öçğüİşı'\n",
    "\n",
    "    url = f'https://api.telegram.org/bot1151092564:AAHcCDQf36XQWbtJxVJwB8q3O1Gq3dyhs3o/sendMessage?chat_id={chat_id}&text={urllib.parse.quote(text)}'\n",
    "\n",
    "    urllib.request.urlopen(url)\n",
    "\n",
    "\n"
   ]
  },
  {
   "cell_type": "code",
   "execution_count": 4,
   "metadata": {},
   "outputs": [],
   "source": [
    "#islemde_chatİd=[['true','0','0']]\n",
    "islemde_chatİd={}\n",
    "islem_var_mı=\"false\"\n",
    "\n",
    "app = Flask(__name__)\n",
    "\n",
    "@app.route('/', methods =['GET','POST'])\n",
    "def index():\n",
    "    if (request.method == 'POST'):\n",
    "        some_json =request.get_json()\n",
    "        print(some_json)\n",
    "        print(islemde_chatİd)\n",
    "\n",
    "       \n",
    "        message_title=[]\n",
    "        message_text_sticker=[]\n",
    "        for key in some_json.keys():\n",
    "            message_title.append(key)\n",
    "\n",
    "        if message_title[1]=='message':\n",
    "            for key in some_json['message'].keys():\n",
    "                message_text_sticker.append(key)\n",
    "        else:\n",
    "            for key in some_json['edited_message'].keys():\n",
    "                message_text_sticker.append(key)\n",
    "            \n",
    "\n",
    "\n",
    "        try:\n",
    "            print(\"-----1------\")\n",
    "            chat_id, text = text_fonk(message_title,some_json)\n",
    "            \n",
    "           \n",
    "        \n",
    "            print(\"----2-------\")\n",
    "            if str(chat_id) in islemde_chatİd.keys():\n",
    "                print(\"---akakakakaka---------\")\n",
    "                tru_fls, chat_id, aktion=action_Yont(\"telegrambot\",islemde_chatİd[str(chat_id)],chat_id,text) \n",
    "                print(tru_fls)\n",
    "                print(chat_id)\n",
    "            else:\n",
    "                tru_fls, chat_id, aktion=chat(chat_id, text)\n",
    "                print(\"cemo\")\n",
    "                print(tru_fls)\n",
    "                print(chat_id)\n",
    "                print(aktion)\n",
    "            print(\"-----3------\")\n",
    "            index=0\n",
    "            \n",
    "            if tru_fls==\"true\":\n",
    "                \n",
    "                if str(chat_id) in islemde_chatİd.keys():\n",
    "                    print(\"ekleme kısmının altının altı calıstı\")\n",
    "                else:\n",
    "                    islemde_chatİd[str(chat_id)]=aktion\n",
    "                    print(islemde_chatİd)\n",
    "        #ilk önce kontolr et var mı yok mu yoksa ekle var sa bir şey yapma\n",
    "                #islemde_chatİd.append([tru_fls,chat_id,aktion])\n",
    "                #print(islemde_chatİd)\n",
    "            else:\n",
    "                print(\"false girdi\")\n",
    "                try:\n",
    "                    print(chat_id)\n",
    "                    if str(chat_id) in islemde_chatİd.keys():\n",
    "                        print(\"if koşuluna girdi\")\n",
    "                        del islemde_chatİd[str(chat_id)]\n",
    "                        print(\"5.bölge üstü islemde var dı sildi\")\n",
    "                except:\n",
    "                    print(\"islemde_chatİd.pop(index) foksiyonunda hata\")\n",
    "            print(\"------4-----\")\n",
    "        \n",
    "            #chat id işlemdeyse chati es geç aksiyon fonksiyonuna gönder\n",
    "            \n",
    "            #########aksiyon fonk\n",
    "                    ################# aksiyondan true chat id geldiysse chat id işlemler listesinden silinecek \n",
    "                     \n",
    "   \n",
    "        except:\n",
    "            chat_id2 = some_json['message']['chat']['id']\n",
    "            send_fonk(chat_id2,\"Beklenmeyen hata stiker vb. emojilerden anlaıyorum\")\n",
    "        return ':::TAMAMLANDI:::', 200\n",
    "    else:\n",
    "        return '<h1> HELLO TELEGRAM</h1>'\n"
   ]
  },
  {
   "cell_type": "code",
   "execution_count": 5,
   "metadata": {
    "scrolled": false
   },
   "outputs": [
    {
     "name": "stderr",
     "output_type": "stream",
     "text": [
      " * Running on http://localhost:9000/ (Press CTRL+C to quit)\n"
     ]
    },
    {
     "name": "stdout",
     "output_type": "stream",
     "text": [
      "{'update_id': 482201803, 'message': {'message_id': 1270, 'from': {'id': 685931403, 'is_bot': False, 'first_name': 'Oguzhan', 'last_name': 'Zor', 'language_code': 'tr'}, 'chat': {'id': 685931403, 'first_name': 'Oguzhan', 'last_name': 'Zor', 'type': 'private'}, 'date': 1600419161, 'text': 'Hava durumu'}}\n",
      "{}\n",
      "-----1------\n",
      "685931403\n",
      "Hava durumu\n",
      "------2-----\n",
      "\n",
      "----3-------\n",
      "2\n"
     ]
    },
    {
     "name": "stderr",
     "output_type": "stream",
     "text": [
      "127.0.0.1 - - [18/Sep/2020 11:52:48] \"\u001b[37mPOST / HTTP/1.1\u001b[0m\" 200 -\n"
     ]
    },
    {
     "name": "stdout",
     "output_type": "stream",
     "text": [
      "cemo\n",
      "true\n",
      "685931403\n",
      "2\n",
      "-----4------\n",
      "{'685931403': '2'}\n",
      "------5-----\n",
      "{'update_id': 482201804, 'message': {'message_id': 1272, 'from': {'id': 685931403, 'is_bot': False, 'first_name': 'Oguzhan', 'last_name': 'Zor', 'language_code': 'tr'}, 'chat': {'id': 685931403, 'first_name': 'Oguzhan', 'last_name': 'Zor', 'type': 'private'}, 'date': 1600419177, 'text': 'Bursa'}}\n",
      "{'685931403': '2'}\n",
      "-----1------\n",
      "685931403\n",
      "Bursa\n",
      "------******calıstı********---------\n",
      "------2-----\n",
      "\n",
      "----3-------\n",
      "---akakakakaka---------\n"
     ]
    },
    {
     "name": "stderr",
     "output_type": "stream",
     "text": [
      "127.0.0.1 - - [18/Sep/2020 11:52:55] \"\u001b[37mPOST / HTTP/1.1\u001b[0m\" 200 -\n"
     ]
    },
    {
     "name": "stdout",
     "output_type": "stream",
     "text": [
      "false\n",
      "685931403\n",
      "-----4------\n",
      "false girdi\n",
      "685931403\n",
      "if koşuluna girdi\n",
      "5.bölge üstü islemde var dı sildi\n",
      "------5-----\n",
      "{'update_id': 482201805, 'message': {'message_id': 1274, 'from': {'id': 685931403, 'is_bot': False, 'first_name': 'Oguzhan', 'last_name': 'Zor', 'language_code': 'tr'}, 'chat': {'id': 685931403, 'first_name': 'Oguzhan', 'last_name': 'Zor', 'type': 'private'}, 'date': 1600419200, 'text': 'Müşteri kayıt'}}\n",
      "{}\n",
      "-----1------\n",
      "685931403\n",
      "Müşteri kayıt\n",
      "------2-----\n",
      "\n",
      "----3-------\n",
      "3\n",
      "[['0', 'ad', 'soyad', '+90530', 'e@posta.com', 'evet']]\n",
      " ------1111------\n"
     ]
    },
    {
     "name": "stderr",
     "output_type": "stream",
     "text": [
      "127.0.0.1 - - [18/Sep/2020 11:53:20] \"\u001b[37mPOST / HTTP/1.1\u001b[0m\" 200 -\n"
     ]
    },
    {
     "name": "stdout",
     "output_type": "stream",
     "text": [
      "[['0', 'ad', 'soyad', '+90530', 'e@posta.com', 'evet'], [685931403, '', '', '', '', '']]\n",
      "--22222---\n",
      "cemo\n",
      "true\n",
      "685931403\n",
      "3\n",
      "-----4------\n",
      "{'685931403': '3'}\n",
      "------5-----\n",
      "{'update_id': 482201806, 'message': {'message_id': 1276, 'from': {'id': 685931403, 'is_bot': False, 'first_name': 'Oguzhan', 'last_name': 'Zor', 'language_code': 'tr'}, 'chat': {'id': 685931403, 'first_name': 'Oguzhan', 'last_name': 'Zor', 'type': 'private'}, 'date': 1600419209, 'text': 'Oğuzhan'}}\n",
      "{'685931403': '3'}\n",
      "-----1------\n",
      "685931403\n",
      "Oğuzhan\n",
      "------******calıstı********---------\n",
      "------2-----\n",
      "\n",
      "----3-------\n",
      "---akakakakaka---------\n",
      "[['0', 'ad', 'soyad', '+90530', 'e@posta.com', 'evet'], [685931403, '', '', '', '', '']]\n",
      " ------1111------\n"
     ]
    },
    {
     "name": "stderr",
     "output_type": "stream",
     "text": [
      "127.0.0.1 - - [18/Sep/2020 11:53:26] \"\u001b[37mPOST / HTTP/1.1\u001b[0m\" 200 -\n"
     ]
    },
    {
     "name": "stdout",
     "output_type": "stream",
     "text": [
      "[['0', 'ad', 'soyad', '+90530', 'e@posta.com', 'evet'], [685931403, 'Oğuzhan', '', '', '', '']]\n",
      "--22222---\n",
      "true\n",
      "685931403\n",
      "-----4------\n",
      "ekleme kısmının altının altı calıstı\n",
      "------5-----\n",
      "{'update_id': 482201807, 'message': {'message_id': 1278, 'from': {'id': 685931403, 'is_bot': False, 'first_name': 'Oguzhan', 'last_name': 'Zor', 'language_code': 'tr'}, 'chat': {'id': 685931403, 'first_name': 'Oguzhan', 'last_name': 'Zor', 'type': 'private'}, 'date': 1600419216, 'text': 'Zor'}}\n",
      "{'685931403': '3'}\n",
      "-----1------\n",
      "685931403\n",
      "Zor\n",
      "------******calıstı********---------\n",
      "------2-----\n",
      "\n",
      "----3-------\n",
      "---akakakakaka---------\n",
      "[['0', 'ad', 'soyad', '+90530', 'e@posta.com', 'evet'], [685931403, 'Oğuzhan', '', '', '', '']]\n",
      " ------1111------\n"
     ]
    },
    {
     "name": "stderr",
     "output_type": "stream",
     "text": [
      "127.0.0.1 - - [18/Sep/2020 11:53:34] \"\u001b[37mPOST / HTTP/1.1\u001b[0m\" 200 -\n"
     ]
    },
    {
     "name": "stdout",
     "output_type": "stream",
     "text": [
      "[['0', 'ad', 'soyad', '+90530', 'e@posta.com', 'evet'], [685931403, 'Oğuzhan', 'Zor', '', '', '']]\n",
      "--22222---\n",
      "true\n",
      "685931403\n",
      "-----4------\n",
      "ekleme kısmının altının altı calıstı\n",
      "------5-----\n",
      "{'update_id': 482201808, 'message': {'message_id': 1280, 'from': {'id': 685931403, 'is_bot': False, 'first_name': 'Oguzhan', 'last_name': 'Zor', 'language_code': 'tr'}, 'chat': {'id': 685931403, 'first_name': 'Oguzhan', 'last_name': 'Zor', 'type': 'private'}, 'date': 1600419233, 'text': '+90503'}}\n",
      "{'685931403': '3'}\n",
      "-----1------\n",
      "685931403\n",
      "+90503\n",
      "------******calıstı********---------\n",
      "------2-----\n",
      "\n",
      "----3-------\n",
      "---akakakakaka---------\n",
      "[['0', 'ad', 'soyad', '+90530', 'e@posta.com', 'evet'], [685931403, 'Oğuzhan', 'Zor', '', '', '']]\n",
      " ------1111------\n"
     ]
    },
    {
     "name": "stderr",
     "output_type": "stream",
     "text": [
      "127.0.0.1 - - [18/Sep/2020 11:53:52] \"\u001b[37mPOST / HTTP/1.1\u001b[0m\" 200 -\n"
     ]
    },
    {
     "name": "stdout",
     "output_type": "stream",
     "text": [
      "[['0', 'ad', 'soyad', '+90530', 'e@posta.com', 'evet'], [685931403, 'Oğuzhan', 'Zor', '+90503', '', '']]\n",
      "--22222---\n",
      "true\n",
      "685931403\n",
      "-----4------\n",
      "ekleme kısmının altının altı calıstı\n",
      "------5-----\n",
      "{'update_id': 482201809, 'message': {'message_id': 1282, 'from': {'id': 685931403, 'is_bot': False, 'first_name': 'Oguzhan', 'last_name': 'Zor', 'language_code': 'tr'}, 'chat': {'id': 685931403, 'first_name': 'Oguzhan', 'last_name': 'Zor', 'type': 'private'}, 'date': 1600419253, 'text': 'Epost han oguz'}}\n",
      "{'685931403': '3'}\n",
      "-----1------\n",
      "685931403\n",
      "Epost han oguz\n",
      "------******calıstı********---------\n",
      "------2-----\n",
      "\n",
      "----3-------\n",
      "---akakakakaka---------\n",
      "[['0', 'ad', 'soyad', '+90530', 'e@posta.com', 'evet'], [685931403, 'Oğuzhan', 'Zor', '+90503', '', '']]\n",
      " ------1111------\n"
     ]
    },
    {
     "name": "stderr",
     "output_type": "stream",
     "text": [
      "127.0.0.1 - - [18/Sep/2020 11:54:11] \"\u001b[37mPOST / HTTP/1.1\u001b[0m\" 200 -\n"
     ]
    },
    {
     "name": "stdout",
     "output_type": "stream",
     "text": [
      "[['0', 'ad', 'soyad', '+90530', 'e@posta.com', 'evet'], [685931403, 'Oğuzhan', 'Zor', '+90503', 'Epost han oguz', '']]\n",
      "--22222---\n",
      "true\n",
      "685931403\n",
      "-----4------\n",
      "ekleme kısmının altının altı calıstı\n",
      "------5-----\n",
      "{'update_id': 482201810, 'message': {'message_id': 1284, 'from': {'id': 685931403, 'is_bot': False, 'first_name': 'Oguzhan', 'last_name': 'Zor', 'language_code': 'tr'}, 'chat': {'id': 685931403, 'first_name': 'Oguzhan', 'last_name': 'Zor', 'type': 'private'}, 'date': 1600419265, 'text': 'Evet'}}\n",
      "{'685931403': '3'}\n",
      "-----1------\n",
      "685931403\n",
      "Evet\n",
      "------******calıstı********---------\n",
      "------2-----\n",
      "\n",
      "----3-------\n",
      "---akakakakaka---------\n",
      "[['0', 'ad', 'soyad', '+90530', 'e@posta.com', 'evet'], [685931403, 'Oğuzhan', 'Zor', '+90503', 'Epost han oguz', '']]\n",
      " ------1111------\n",
      "['0', 'ad', 'soyad', '+90530', 'e@posta.com', 'evet']\n",
      "[685931403, 'Oğuzhan', 'Zor', '+90503', 'Epost han oguz', 'Evet']\n",
      "Evet\n",
      "kaydın iptal edildi\n"
     ]
    },
    {
     "name": "stderr",
     "output_type": "stream",
     "text": [
      "127.0.0.1 - - [18/Sep/2020 11:54:23] \"\u001b[37mPOST / HTTP/1.1\u001b[0m\" 200 -\n"
     ]
    },
    {
     "name": "stdout",
     "output_type": "stream",
     "text": [
      "{'update_id': 482201811, 'message': {'message_id': 1286, 'from': {'id': 685931403, 'is_bot': False, 'first_name': 'Oguzhan', 'last_name': 'Zor', 'language_code': 'tr'}, 'chat': {'id': 685931403, 'first_name': 'Oguzhan', 'last_name': 'Zor', 'type': 'private'}, 'date': 1600419304, 'text': 'Merhaba'}}\n",
      "{'685931403': '3'}\n",
      "-----1------\n",
      "685931403\n",
      "Merhaba\n",
      "------******calıstı********---------\n",
      "------2-----\n",
      "\n",
      "----3-------\n",
      "---akakakakaka---------\n",
      "[['0', 'ad', 'soyad', '+90530', 'e@posta.com', 'evet'], [685931403, 'Oğuzhan', 'Zor', '+90503', 'Epost han oguz', 'Evet']]\n",
      " ------1111------\n",
      "['0', 'ad', 'soyad', '+90530', 'e@posta.com', 'evet']\n",
      "[685931403, 'Oğuzhan', 'Zor', '+90503', 'Epost han oguz', 'Evet']\n",
      "Evet\n",
      "kaydın iptal edildi\n"
     ]
    },
    {
     "name": "stderr",
     "output_type": "stream",
     "text": [
      "127.0.0.1 - - [18/Sep/2020 11:55:02] \"\u001b[37mPOST / HTTP/1.1\u001b[0m\" 200 -\n"
     ]
    },
    {
     "name": "stdout",
     "output_type": "stream",
     "text": [
      "{'update_id': 482201812, 'message': {'message_id': 1288, 'from': {'id': 685931403, 'is_bot': False, 'first_name': 'Oguzhan', 'last_name': 'Zor', 'language_code': 'tr'}, 'chat': {'id': 685931403, 'first_name': 'Oguzhan', 'last_name': 'Zor', 'type': 'private'}, 'date': 1600419308, 'text': 'Bursa'}}\n",
      "{'685931403': '3'}\n",
      "-----1------\n",
      "685931403\n",
      "Bursa\n",
      "------******calıstı********---------\n",
      "------2-----\n",
      "\n",
      "----3-------\n",
      "---akakakakaka---------\n",
      "[['0', 'ad', 'soyad', '+90530', 'e@posta.com', 'evet'], [685931403, 'Oğuzhan', 'Zor', '+90503', 'Epost han oguz', 'Evet']]\n",
      " ------1111------\n",
      "['0', 'ad', 'soyad', '+90530', 'e@posta.com', 'evet']\n",
      "[685931403, 'Oğuzhan', 'Zor', '+90503', 'Epost han oguz', 'Evet']\n",
      "Evet\n",
      "kaydın iptal edildi\n"
     ]
    },
    {
     "name": "stderr",
     "output_type": "stream",
     "text": [
      "127.0.0.1 - - [18/Sep/2020 11:55:05] \"\u001b[37mPOST / HTTP/1.1\u001b[0m\" 200 -\n"
     ]
    },
    {
     "name": "stdout",
     "output_type": "stream",
     "text": [
      "{'update_id': 482201813, 'message': {'message_id': 1290, 'from': {'id': 685931403, 'is_bot': False, 'first_name': 'Oguzhan', 'last_name': 'Zor', 'language_code': 'tr'}, 'chat': {'id': 685931403, 'first_name': 'Oguzhan', 'last_name': 'Zor', 'type': 'private'}, 'date': 1600419312, 'text': 'Hava durumu'}}\n",
      "{'685931403': '3'}\n",
      "-----1------\n",
      "685931403\n",
      "Hava durumu\n",
      "------******calıstı********---------\n",
      "------2-----\n",
      "\n",
      "----3-------\n",
      "---akakakakaka---------\n",
      "[['0', 'ad', 'soyad', '+90530', 'e@posta.com', 'evet'], [685931403, 'Oğuzhan', 'Zor', '+90503', 'Epost han oguz', 'Evet']]\n",
      " ------1111------\n",
      "['0', 'ad', 'soyad', '+90530', 'e@posta.com', 'evet']\n",
      "[685931403, 'Oğuzhan', 'Zor', '+90503', 'Epost han oguz', 'Evet']\n",
      "Evet\n",
      "kaydın iptal edildi\n"
     ]
    },
    {
     "name": "stderr",
     "output_type": "stream",
     "text": [
      "127.0.0.1 - - [18/Sep/2020 11:55:10] \"\u001b[37mPOST / HTTP/1.1\u001b[0m\" 200 -\n"
     ]
    }
   ],
   "source": [
    "if __name__ == '__main__':\n",
    "    #app.run(debug=True)\n",
    "    from werkzeug.serving import run_simple\n",
    "    run_simple('localhost', 9000, app)"
   ]
  },
  {
   "cell_type": "code",
   "execution_count": null,
   "metadata": {},
   "outputs": [],
   "source": []
  },
  {
   "cell_type": "code",
   "execution_count": 6,
   "metadata": {},
   "outputs": [
    {
     "data": {
      "text/plain": [
       "'\\nfrom werkzeug.wrappers import Request, Response\\nfrom flask import Flask\\n\\napp = Flask(__name__)\\n\\n@app.route(\"/\")\\ndef hello():\\n    return \"Hello World!\"\\n\\nif __name__ == \\'__main__\\':\\n    from werkzeug.serving import run_simple\\n    run_simple(\\'localhost\\', 9000, app)\\n    \\n'"
      ]
     },
     "execution_count": 6,
     "metadata": {},
     "output_type": "execute_result"
    }
   ],
   "source": [
    "#jupyerde Serving WSGI çalışmıyor. bunun için aşağıdaki kodu buldum internet üzerinden örnek kod olsun diye silmiyorum \n",
    "#from werkzeug.wrappers import Request, Response bu kütüphane bana flask ı çalıştırmamda yardımcı oluyor WSGI bunun sayesinde oluştura biliyorum.\n",
    "\"\"\"\n",
    "from werkzeug.wrappers import Request, Response\n",
    "from flask import Flask\n",
    "\n",
    "app = Flask(__name__)\n",
    "\n",
    "@app.route(\"/\")\n",
    "def hello():\n",
    "    return \"Hello World!\"\n",
    "\n",
    "if __name__ == '__main__':\n",
    "    from werkzeug.serving import run_simple\n",
    "    run_simple('localhost', 9000, app)\n",
    "    \n",
    "\"\"\""
   ]
  },
  {
   "cell_type": "code",
   "execution_count": 7,
   "metadata": {},
   "outputs": [],
   "source": [
    "#token = '1151092564:AAHcCDQf36XQWbtJxVJwB8q3O1Gq3dyhs3o'\n",
    "\n",
    "\n",
    "#https://api.telegram.org/bot1151092564:AAHcCDQf36XQWbtJxVJwB8q3O1Gq3dyhs3o/setWebhook?url=https://adee8c372fad.ngrok.io \n",
    "\n",
    "#webhook listesi\n",
    "# kullanımda olan sub domain\n",
    "#https://0e238c3e97db.ngrok.io/\n",
    "#https://77ef46304413.ngrok.io/\n",
    "#https://eaa4724c8a8c.ngrok.io/\n",
    "#https://0acab9206492.ngrok.io \n",
    "#https://4a05e370b14f.ngrok.io\n",
    "#https://adee8c372fad.ngrok.io "
   ]
  },
  {
   "cell_type": "code",
   "execution_count": null,
   "metadata": {},
   "outputs": [],
   "source": []
  },
  {
   "cell_type": "code",
   "execution_count": null,
   "metadata": {},
   "outputs": [],
   "source": []
  },
  {
   "cell_type": "code",
   "execution_count": null,
   "metadata": {},
   "outputs": [],
   "source": []
  },
  {
   "cell_type": "markdown",
   "metadata": {},
   "source": [
    "\n"
   ]
  }
 ],
 "metadata": {
  "kernelspec": {
   "display_name": "Python 3.7 (tensorflow)",
   "language": "python",
   "name": "tensorflow"
  },
  "language_info": {
   "codemirror_mode": {
    "name": "ipython",
    "version": 3
   },
   "file_extension": ".py",
   "mimetype": "text/x-python",
   "name": "python",
   "nbconvert_exporter": "python",
   "pygments_lexer": "ipython3",
   "version": "3.7.7"
  }
 },
 "nbformat": 4,
 "nbformat_minor": 4
}
