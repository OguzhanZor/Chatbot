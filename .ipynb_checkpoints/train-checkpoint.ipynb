{
 "cells": [
  {
   "cell_type": "code",
   "execution_count": 1,
   "metadata": {
    "scrolled": true
   },
   "outputs": [
    {
     "name": "stdout",
     "output_type": "stream",
     "text": [
      "importing Jupyter notebook from nltk_utils.ipynb\n",
      "Nasılsın\n",
      "[Nasılsın]\n",
      "nasılsın\n",
      "importing Jupyter notebook from model.ipynb\n"
     ]
    }
   ],
   "source": [
    "import import_ipynb\n",
    "\n",
    "import numpy as np\n",
    "import json\n",
    "from nltk_utils import tokenize,stem,bag_of_word,normalizer\n",
    "\n",
    "\n",
    "import torch\n",
    "import torch.nn as nn\n",
    "from torch.utils.data import Dataset, DataLoader \n",
    "\n",
    "\n",
    "from model import NeuralNet\n",
    "\n"
   ]
  },
  {
   "cell_type": "code",
   "execution_count": 3,
   "metadata": {
    "scrolled": true
   },
   "outputs": [
    {
     "ename": "JSONDecodeError",
     "evalue": "Expecting value: line 133 column 4 (char 2724)",
     "output_type": "error",
     "traceback": [
      "\u001b[1;31m---------------------------------------------------------------------------\u001b[0m",
      "\u001b[1;31mJSONDecodeError\u001b[0m                           Traceback (most recent call last)",
      "\u001b[1;32m<ipython-input-3-87d3f5939932>\u001b[0m in \u001b[0;36m<module>\u001b[1;34m\u001b[0m\n\u001b[0;32m      1\u001b[0m \u001b[1;32mwith\u001b[0m \u001b[0mopen\u001b[0m\u001b[1;33m(\u001b[0m\u001b[1;34m'intents.json'\u001b[0m\u001b[1;33m,\u001b[0m\u001b[0mencoding\u001b[0m\u001b[1;33m=\u001b[0m\u001b[1;34m'utf-8'\u001b[0m\u001b[1;33m)\u001b[0m \u001b[1;32mas\u001b[0m \u001b[0mf\u001b[0m\u001b[1;33m:\u001b[0m \u001b[1;31m#Burada json dosyasındaki bütün veriler okunup diziye aktarılıyor.\u001b[0m\u001b[1;33m\u001b[0m\u001b[1;33m\u001b[0m\u001b[0m\n\u001b[1;32m----> 2\u001b[1;33m     \u001b[0mintents\u001b[0m\u001b[1;33m=\u001b[0m\u001b[0mjson\u001b[0m\u001b[1;33m.\u001b[0m\u001b[0mload\u001b[0m\u001b[1;33m(\u001b[0m\u001b[0mf\u001b[0m\u001b[1;33m)\u001b[0m\u001b[1;33m\u001b[0m\u001b[1;33m\u001b[0m\u001b[0m\n\u001b[0m\u001b[0;32m      3\u001b[0m \u001b[1;33m\u001b[0m\u001b[0m\n\u001b[0;32m      4\u001b[0m \u001b[0mprint\u001b[0m\u001b[1;33m(\u001b[0m\u001b[0mintents\u001b[0m\u001b[1;33m)\u001b[0m\u001b[1;33m\u001b[0m\u001b[1;33m\u001b[0m\u001b[0m\n\u001b[0;32m      5\u001b[0m \u001b[1;33m\u001b[0m\u001b[0m\n",
      "\u001b[1;32m~\\miniconda3\\envs\\tensorflow\\lib\\json\\__init__.py\u001b[0m in \u001b[0;36mload\u001b[1;34m(fp, cls, object_hook, parse_float, parse_int, parse_constant, object_pairs_hook, **kw)\u001b[0m\n\u001b[0;32m    294\u001b[0m         \u001b[0mcls\u001b[0m\u001b[1;33m=\u001b[0m\u001b[0mcls\u001b[0m\u001b[1;33m,\u001b[0m \u001b[0mobject_hook\u001b[0m\u001b[1;33m=\u001b[0m\u001b[0mobject_hook\u001b[0m\u001b[1;33m,\u001b[0m\u001b[1;33m\u001b[0m\u001b[1;33m\u001b[0m\u001b[0m\n\u001b[0;32m    295\u001b[0m         \u001b[0mparse_float\u001b[0m\u001b[1;33m=\u001b[0m\u001b[0mparse_float\u001b[0m\u001b[1;33m,\u001b[0m \u001b[0mparse_int\u001b[0m\u001b[1;33m=\u001b[0m\u001b[0mparse_int\u001b[0m\u001b[1;33m,\u001b[0m\u001b[1;33m\u001b[0m\u001b[1;33m\u001b[0m\u001b[0m\n\u001b[1;32m--> 296\u001b[1;33m         parse_constant=parse_constant, object_pairs_hook=object_pairs_hook, **kw)\n\u001b[0m\u001b[0;32m    297\u001b[0m \u001b[1;33m\u001b[0m\u001b[0m\n\u001b[0;32m    298\u001b[0m \u001b[1;33m\u001b[0m\u001b[0m\n",
      "\u001b[1;32m~\\miniconda3\\envs\\tensorflow\\lib\\json\\__init__.py\u001b[0m in \u001b[0;36mloads\u001b[1;34m(s, encoding, cls, object_hook, parse_float, parse_int, parse_constant, object_pairs_hook, **kw)\u001b[0m\n\u001b[0;32m    346\u001b[0m             \u001b[0mparse_int\u001b[0m \u001b[1;32mis\u001b[0m \u001b[1;32mNone\u001b[0m \u001b[1;32mand\u001b[0m \u001b[0mparse_float\u001b[0m \u001b[1;32mis\u001b[0m \u001b[1;32mNone\u001b[0m \u001b[1;32mand\u001b[0m\u001b[1;33m\u001b[0m\u001b[1;33m\u001b[0m\u001b[0m\n\u001b[0;32m    347\u001b[0m             parse_constant is None and object_pairs_hook is None and not kw):\n\u001b[1;32m--> 348\u001b[1;33m         \u001b[1;32mreturn\u001b[0m \u001b[0m_default_decoder\u001b[0m\u001b[1;33m.\u001b[0m\u001b[0mdecode\u001b[0m\u001b[1;33m(\u001b[0m\u001b[0ms\u001b[0m\u001b[1;33m)\u001b[0m\u001b[1;33m\u001b[0m\u001b[1;33m\u001b[0m\u001b[0m\n\u001b[0m\u001b[0;32m    349\u001b[0m     \u001b[1;32mif\u001b[0m \u001b[0mcls\u001b[0m \u001b[1;32mis\u001b[0m \u001b[1;32mNone\u001b[0m\u001b[1;33m:\u001b[0m\u001b[1;33m\u001b[0m\u001b[1;33m\u001b[0m\u001b[0m\n\u001b[0;32m    350\u001b[0m         \u001b[0mcls\u001b[0m \u001b[1;33m=\u001b[0m \u001b[0mJSONDecoder\u001b[0m\u001b[1;33m\u001b[0m\u001b[1;33m\u001b[0m\u001b[0m\n",
      "\u001b[1;32m~\\miniconda3\\envs\\tensorflow\\lib\\json\\decoder.py\u001b[0m in \u001b[0;36mdecode\u001b[1;34m(self, s, _w)\u001b[0m\n\u001b[0;32m    335\u001b[0m \u001b[1;33m\u001b[0m\u001b[0m\n\u001b[0;32m    336\u001b[0m         \"\"\"\n\u001b[1;32m--> 337\u001b[1;33m         \u001b[0mobj\u001b[0m\u001b[1;33m,\u001b[0m \u001b[0mend\u001b[0m \u001b[1;33m=\u001b[0m \u001b[0mself\u001b[0m\u001b[1;33m.\u001b[0m\u001b[0mraw_decode\u001b[0m\u001b[1;33m(\u001b[0m\u001b[0ms\u001b[0m\u001b[1;33m,\u001b[0m \u001b[0midx\u001b[0m\u001b[1;33m=\u001b[0m\u001b[0m_w\u001b[0m\u001b[1;33m(\u001b[0m\u001b[0ms\u001b[0m\u001b[1;33m,\u001b[0m \u001b[1;36m0\u001b[0m\u001b[1;33m)\u001b[0m\u001b[1;33m.\u001b[0m\u001b[0mend\u001b[0m\u001b[1;33m(\u001b[0m\u001b[1;33m)\u001b[0m\u001b[1;33m)\u001b[0m\u001b[1;33m\u001b[0m\u001b[1;33m\u001b[0m\u001b[0m\n\u001b[0m\u001b[0;32m    338\u001b[0m         \u001b[0mend\u001b[0m \u001b[1;33m=\u001b[0m \u001b[0m_w\u001b[0m\u001b[1;33m(\u001b[0m\u001b[0ms\u001b[0m\u001b[1;33m,\u001b[0m \u001b[0mend\u001b[0m\u001b[1;33m)\u001b[0m\u001b[1;33m.\u001b[0m\u001b[0mend\u001b[0m\u001b[1;33m(\u001b[0m\u001b[1;33m)\u001b[0m\u001b[1;33m\u001b[0m\u001b[1;33m\u001b[0m\u001b[0m\n\u001b[0;32m    339\u001b[0m         \u001b[1;32mif\u001b[0m \u001b[0mend\u001b[0m \u001b[1;33m!=\u001b[0m \u001b[0mlen\u001b[0m\u001b[1;33m(\u001b[0m\u001b[0ms\u001b[0m\u001b[1;33m)\u001b[0m\u001b[1;33m:\u001b[0m\u001b[1;33m\u001b[0m\u001b[1;33m\u001b[0m\u001b[0m\n",
      "\u001b[1;32m~\\miniconda3\\envs\\tensorflow\\lib\\json\\decoder.py\u001b[0m in \u001b[0;36mraw_decode\u001b[1;34m(self, s, idx)\u001b[0m\n\u001b[0;32m    353\u001b[0m             \u001b[0mobj\u001b[0m\u001b[1;33m,\u001b[0m \u001b[0mend\u001b[0m \u001b[1;33m=\u001b[0m \u001b[0mself\u001b[0m\u001b[1;33m.\u001b[0m\u001b[0mscan_once\u001b[0m\u001b[1;33m(\u001b[0m\u001b[0ms\u001b[0m\u001b[1;33m,\u001b[0m \u001b[0midx\u001b[0m\u001b[1;33m)\u001b[0m\u001b[1;33m\u001b[0m\u001b[1;33m\u001b[0m\u001b[0m\n\u001b[0;32m    354\u001b[0m         \u001b[1;32mexcept\u001b[0m \u001b[0mStopIteration\u001b[0m \u001b[1;32mas\u001b[0m \u001b[0merr\u001b[0m\u001b[1;33m:\u001b[0m\u001b[1;33m\u001b[0m\u001b[1;33m\u001b[0m\u001b[0m\n\u001b[1;32m--> 355\u001b[1;33m             \u001b[1;32mraise\u001b[0m \u001b[0mJSONDecodeError\u001b[0m\u001b[1;33m(\u001b[0m\u001b[1;34m\"Expecting value\"\u001b[0m\u001b[1;33m,\u001b[0m \u001b[0ms\u001b[0m\u001b[1;33m,\u001b[0m \u001b[0merr\u001b[0m\u001b[1;33m.\u001b[0m\u001b[0mvalue\u001b[0m\u001b[1;33m)\u001b[0m \u001b[1;32mfrom\u001b[0m \u001b[1;32mNone\u001b[0m\u001b[1;33m\u001b[0m\u001b[1;33m\u001b[0m\u001b[0m\n\u001b[0m\u001b[0;32m    356\u001b[0m         \u001b[1;32mreturn\u001b[0m \u001b[0mobj\u001b[0m\u001b[1;33m,\u001b[0m \u001b[0mend\u001b[0m\u001b[1;33m\u001b[0m\u001b[1;33m\u001b[0m\u001b[0m\n",
      "\u001b[1;31mJSONDecodeError\u001b[0m: Expecting value: line 133 column 4 (char 2724)"
     ]
    }
   ],
   "source": [
    "with open('intents.json',encoding='utf-8') as f: #Burada json dosyasındaki bütün veriler okunup diziye aktarılıyor. \n",
    "    intents=json.load(f)\n",
    "\n",
    "print(intents)\n",
    "\n",
    "\n"
   ]
  },
  {
   "cell_type": "code",
   "execution_count": 3,
   "metadata": {},
   "outputs": [],
   "source": [
    "all_words=[]\n",
    "tags=[]\n",
    "xy=[]\n"
   ]
  },
  {
   "cell_type": "code",
   "execution_count": null,
   "metadata": {
    "scrolled": true
   },
   "outputs": [
    {
     "name": "stdout",
     "output_type": "stream",
     "text": [
      "[(<java object 'java.util.ArrayList'>, 'selamlama')]\n",
      "[(<java object 'java.util.ArrayList'>, 'selamlama'), (<java object 'java.util.ArrayList'>, 'selamlama')]\n",
      "[(<java object 'java.util.ArrayList'>, 'selamlama'), (<java object 'java.util.ArrayList'>, 'selamlama'), (<java object 'java.util.ArrayList'>, 'selamlama')]\n",
      "[(<java object 'java.util.ArrayList'>, 'selamlama'), (<java object 'java.util.ArrayList'>, 'selamlama'), (<java object 'java.util.ArrayList'>, 'selamlama'), (<java object 'java.util.ArrayList'>, 'selamlama')]\n",
      "[(<java object 'java.util.ArrayList'>, 'selamlama'), (<java object 'java.util.ArrayList'>, 'selamlama'), (<java object 'java.util.ArrayList'>, 'selamlama'), (<java object 'java.util.ArrayList'>, 'selamlama'), (<java object 'java.util.ArrayList'>, 'selamlama')]\n",
      "[(<java object 'java.util.ArrayList'>, 'selamlama'), (<java object 'java.util.ArrayList'>, 'selamlama'), (<java object 'java.util.ArrayList'>, 'selamlama'), (<java object 'java.util.ArrayList'>, 'selamlama'), (<java object 'java.util.ArrayList'>, 'selamlama'), (<java object 'java.util.ArrayList'>, 'hoşçakal')]\n",
      "[(<java object 'java.util.ArrayList'>, 'selamlama'), (<java object 'java.util.ArrayList'>, 'selamlama'), (<java object 'java.util.ArrayList'>, 'selamlama'), (<java object 'java.util.ArrayList'>, 'selamlama'), (<java object 'java.util.ArrayList'>, 'selamlama'), (<java object 'java.util.ArrayList'>, 'hoşçakal'), (<java object 'java.util.ArrayList'>, 'hoşçakal')]\n",
      "[(<java object 'java.util.ArrayList'>, 'selamlama'), (<java object 'java.util.ArrayList'>, 'selamlama'), (<java object 'java.util.ArrayList'>, 'selamlama'), (<java object 'java.util.ArrayList'>, 'selamlama'), (<java object 'java.util.ArrayList'>, 'selamlama'), (<java object 'java.util.ArrayList'>, 'hoşçakal'), (<java object 'java.util.ArrayList'>, 'hoşçakal'), (<java object 'java.util.ArrayList'>, 'hoşçakal')]\n",
      "[(<java object 'java.util.ArrayList'>, 'selamlama'), (<java object 'java.util.ArrayList'>, 'selamlama'), (<java object 'java.util.ArrayList'>, 'selamlama'), (<java object 'java.util.ArrayList'>, 'selamlama'), (<java object 'java.util.ArrayList'>, 'selamlama'), (<java object 'java.util.ArrayList'>, 'hoşçakal'), (<java object 'java.util.ArrayList'>, 'hoşçakal'), (<java object 'java.util.ArrayList'>, 'hoşçakal'), (<java object 'java.util.ArrayList'>, 'hoşçakal')]\n",
      "[(<java object 'java.util.ArrayList'>, 'selamlama'), (<java object 'java.util.ArrayList'>, 'selamlama'), (<java object 'java.util.ArrayList'>, 'selamlama'), (<java object 'java.util.ArrayList'>, 'selamlama'), (<java object 'java.util.ArrayList'>, 'selamlama'), (<java object 'java.util.ArrayList'>, 'hoşçakal'), (<java object 'java.util.ArrayList'>, 'hoşçakal'), (<java object 'java.util.ArrayList'>, 'hoşçakal'), (<java object 'java.util.ArrayList'>, 'hoşçakal'), (<java object 'java.util.ArrayList'>, 'teşekkürler')]\n",
      "[(<java object 'java.util.ArrayList'>, 'selamlama'), (<java object 'java.util.ArrayList'>, 'selamlama'), (<java object 'java.util.ArrayList'>, 'selamlama'), (<java object 'java.util.ArrayList'>, 'selamlama'), (<java object 'java.util.ArrayList'>, 'selamlama'), (<java object 'java.util.ArrayList'>, 'hoşçakal'), (<java object 'java.util.ArrayList'>, 'hoşçakal'), (<java object 'java.util.ArrayList'>, 'hoşçakal'), (<java object 'java.util.ArrayList'>, 'hoşçakal'), (<java object 'java.util.ArrayList'>, 'teşekkürler'), (<java object 'java.util.ArrayList'>, 'teşekkürler')]\n",
      "[(<java object 'java.util.ArrayList'>, 'selamlama'), (<java object 'java.util.ArrayList'>, 'selamlama'), (<java object 'java.util.ArrayList'>, 'selamlama'), (<java object 'java.util.ArrayList'>, 'selamlama'), (<java object 'java.util.ArrayList'>, 'selamlama'), (<java object 'java.util.ArrayList'>, 'hoşçakal'), (<java object 'java.util.ArrayList'>, 'hoşçakal'), (<java object 'java.util.ArrayList'>, 'hoşçakal'), (<java object 'java.util.ArrayList'>, 'hoşçakal'), (<java object 'java.util.ArrayList'>, 'teşekkürler'), (<java object 'java.util.ArrayList'>, 'teşekkürler'), (<java object 'java.util.ArrayList'>, 'teşekkürler')]\n",
      "[(<java object 'java.util.ArrayList'>, 'selamlama'), (<java object 'java.util.ArrayList'>, 'selamlama'), (<java object 'java.util.ArrayList'>, 'selamlama'), (<java object 'java.util.ArrayList'>, 'selamlama'), (<java object 'java.util.ArrayList'>, 'selamlama'), (<java object 'java.util.ArrayList'>, 'hoşçakal'), (<java object 'java.util.ArrayList'>, 'hoşçakal'), (<java object 'java.util.ArrayList'>, 'hoşçakal'), (<java object 'java.util.ArrayList'>, 'hoşçakal'), (<java object 'java.util.ArrayList'>, 'teşekkürler'), (<java object 'java.util.ArrayList'>, 'teşekkürler'), (<java object 'java.util.ArrayList'>, 'teşekkürler'), (<java object 'java.util.ArrayList'>, 'teşekkürler')]\n",
      "[(<java object 'java.util.ArrayList'>, 'selamlama'), (<java object 'java.util.ArrayList'>, 'selamlama'), (<java object 'java.util.ArrayList'>, 'selamlama'), (<java object 'java.util.ArrayList'>, 'selamlama'), (<java object 'java.util.ArrayList'>, 'selamlama'), (<java object 'java.util.ArrayList'>, 'hoşçakal'), (<java object 'java.util.ArrayList'>, 'hoşçakal'), (<java object 'java.util.ArrayList'>, 'hoşçakal'), (<java object 'java.util.ArrayList'>, 'hoşçakal'), (<java object 'java.util.ArrayList'>, 'teşekkürler'), (<java object 'java.util.ArrayList'>, 'teşekkürler'), (<java object 'java.util.ArrayList'>, 'teşekkürler'), (<java object 'java.util.ArrayList'>, 'teşekkürler'), (<java object 'java.util.ArrayList'>, 'öğeler')]\n",
      "[(<java object 'java.util.ArrayList'>, 'selamlama'), (<java object 'java.util.ArrayList'>, 'selamlama'), (<java object 'java.util.ArrayList'>, 'selamlama'), (<java object 'java.util.ArrayList'>, 'selamlama'), (<java object 'java.util.ArrayList'>, 'selamlama'), (<java object 'java.util.ArrayList'>, 'hoşçakal'), (<java object 'java.util.ArrayList'>, 'hoşçakal'), (<java object 'java.util.ArrayList'>, 'hoşçakal'), (<java object 'java.util.ArrayList'>, 'hoşçakal'), (<java object 'java.util.ArrayList'>, 'teşekkürler'), (<java object 'java.util.ArrayList'>, 'teşekkürler'), (<java object 'java.util.ArrayList'>, 'teşekkürler'), (<java object 'java.util.ArrayList'>, 'teşekkürler'), (<java object 'java.util.ArrayList'>, 'öğeler'), (<java object 'java.util.ArrayList'>, 'öğeler')]\n",
      "[(<java object 'java.util.ArrayList'>, 'selamlama'), (<java object 'java.util.ArrayList'>, 'selamlama'), (<java object 'java.util.ArrayList'>, 'selamlama'), (<java object 'java.util.ArrayList'>, 'selamlama'), (<java object 'java.util.ArrayList'>, 'selamlama'), (<java object 'java.util.ArrayList'>, 'hoşçakal'), (<java object 'java.util.ArrayList'>, 'hoşçakal'), (<java object 'java.util.ArrayList'>, 'hoşçakal'), (<java object 'java.util.ArrayList'>, 'hoşçakal'), (<java object 'java.util.ArrayList'>, 'teşekkürler'), (<java object 'java.util.ArrayList'>, 'teşekkürler'), (<java object 'java.util.ArrayList'>, 'teşekkürler'), (<java object 'java.util.ArrayList'>, 'teşekkürler'), (<java object 'java.util.ArrayList'>, 'öğeler'), (<java object 'java.util.ArrayList'>, 'öğeler'), (<java object 'java.util.ArrayList'>, 'öğeler')]\n",
      "[(<java object 'java.util.ArrayList'>, 'selamlama'), (<java object 'java.util.ArrayList'>, 'selamlama'), (<java object 'java.util.ArrayList'>, 'selamlama'), (<java object 'java.util.ArrayList'>, 'selamlama'), (<java object 'java.util.ArrayList'>, 'selamlama'), (<java object 'java.util.ArrayList'>, 'hoşçakal'), (<java object 'java.util.ArrayList'>, 'hoşçakal'), (<java object 'java.util.ArrayList'>, 'hoşçakal'), (<java object 'java.util.ArrayList'>, 'hoşçakal'), (<java object 'java.util.ArrayList'>, 'teşekkürler'), (<java object 'java.util.ArrayList'>, 'teşekkürler'), (<java object 'java.util.ArrayList'>, 'teşekkürler'), (<java object 'java.util.ArrayList'>, 'teşekkürler'), (<java object 'java.util.ArrayList'>, 'öğeler'), (<java object 'java.util.ArrayList'>, 'öğeler'), (<java object 'java.util.ArrayList'>, 'öğeler'), (<java object 'java.util.ArrayList'>, 'öğeler')]\n",
      "[(<java object 'java.util.ArrayList'>, 'selamlama'), (<java object 'java.util.ArrayList'>, 'selamlama'), (<java object 'java.util.ArrayList'>, 'selamlama'), (<java object 'java.util.ArrayList'>, 'selamlama'), (<java object 'java.util.ArrayList'>, 'selamlama'), (<java object 'java.util.ArrayList'>, 'hoşçakal'), (<java object 'java.util.ArrayList'>, 'hoşçakal'), (<java object 'java.util.ArrayList'>, 'hoşçakal'), (<java object 'java.util.ArrayList'>, 'hoşçakal'), (<java object 'java.util.ArrayList'>, 'teşekkürler'), (<java object 'java.util.ArrayList'>, 'teşekkürler'), (<java object 'java.util.ArrayList'>, 'teşekkürler'), (<java object 'java.util.ArrayList'>, 'teşekkürler'), (<java object 'java.util.ArrayList'>, 'öğeler'), (<java object 'java.util.ArrayList'>, 'öğeler'), (<java object 'java.util.ArrayList'>, 'öğeler'), (<java object 'java.util.ArrayList'>, 'öğeler'), (<java object 'java.util.ArrayList'>, 'ödemeler')]\n"
     ]
    },
    {
     "name": "stdout",
     "output_type": "stream",
     "text": [
      "[(<java object 'java.util.ArrayList'>, 'selamlama'), (<java object 'java.util.ArrayList'>, 'selamlama'), (<java object 'java.util.ArrayList'>, 'selamlama'), (<java object 'java.util.ArrayList'>, 'selamlama'), (<java object 'java.util.ArrayList'>, 'selamlama'), (<java object 'java.util.ArrayList'>, 'hoşçakal'), (<java object 'java.util.ArrayList'>, 'hoşçakal'), (<java object 'java.util.ArrayList'>, 'hoşçakal'), (<java object 'java.util.ArrayList'>, 'hoşçakal'), (<java object 'java.util.ArrayList'>, 'teşekkürler'), (<java object 'java.util.ArrayList'>, 'teşekkürler'), (<java object 'java.util.ArrayList'>, 'teşekkürler'), (<java object 'java.util.ArrayList'>, 'teşekkürler'), (<java object 'java.util.ArrayList'>, 'öğeler'), (<java object 'java.util.ArrayList'>, 'öğeler'), (<java object 'java.util.ArrayList'>, 'öğeler'), (<java object 'java.util.ArrayList'>, 'öğeler'), (<java object 'java.util.ArrayList'>, 'ödemeler'), (<java object 'java.util.ArrayList'>, 'ödemeler')]\n",
      "[(<java object 'java.util.ArrayList'>, 'selamlama'), (<java object 'java.util.ArrayList'>, 'selamlama'), (<java object 'java.util.ArrayList'>, 'selamlama'), (<java object 'java.util.ArrayList'>, 'selamlama'), (<java object 'java.util.ArrayList'>, 'selamlama'), (<java object 'java.util.ArrayList'>, 'hoşçakal'), (<java object 'java.util.ArrayList'>, 'hoşçakal'), (<java object 'java.util.ArrayList'>, 'hoşçakal'), (<java object 'java.util.ArrayList'>, 'hoşçakal'), (<java object 'java.util.ArrayList'>, 'teşekkürler'), (<java object 'java.util.ArrayList'>, 'teşekkürler'), (<java object 'java.util.ArrayList'>, 'teşekkürler'), (<java object 'java.util.ArrayList'>, 'teşekkürler'), (<java object 'java.util.ArrayList'>, 'öğeler'), (<java object 'java.util.ArrayList'>, 'öğeler'), (<java object 'java.util.ArrayList'>, 'öğeler'), (<java object 'java.util.ArrayList'>, 'öğeler'), (<java object 'java.util.ArrayList'>, 'ödemeler'), (<java object 'java.util.ArrayList'>, 'ödemeler'), (<java object 'java.util.ArrayList'>, 'ödemeler')]\n",
      "[(<java object 'java.util.ArrayList'>, 'selamlama'), (<java object 'java.util.ArrayList'>, 'selamlama'), (<java object 'java.util.ArrayList'>, 'selamlama'), (<java object 'java.util.ArrayList'>, 'selamlama'), (<java object 'java.util.ArrayList'>, 'selamlama'), (<java object 'java.util.ArrayList'>, 'hoşçakal'), (<java object 'java.util.ArrayList'>, 'hoşçakal'), (<java object 'java.util.ArrayList'>, 'hoşçakal'), (<java object 'java.util.ArrayList'>, 'hoşçakal'), (<java object 'java.util.ArrayList'>, 'teşekkürler'), (<java object 'java.util.ArrayList'>, 'teşekkürler'), (<java object 'java.util.ArrayList'>, 'teşekkürler'), (<java object 'java.util.ArrayList'>, 'teşekkürler'), (<java object 'java.util.ArrayList'>, 'öğeler'), (<java object 'java.util.ArrayList'>, 'öğeler'), (<java object 'java.util.ArrayList'>, 'öğeler'), (<java object 'java.util.ArrayList'>, 'öğeler'), (<java object 'java.util.ArrayList'>, 'ödemeler'), (<java object 'java.util.ArrayList'>, 'ödemeler'), (<java object 'java.util.ArrayList'>, 'ödemeler'), (<java object 'java.util.ArrayList'>, 'ödemeler')]\n",
      "[(<java object 'java.util.ArrayList'>, 'selamlama'), (<java object 'java.util.ArrayList'>, 'selamlama'), (<java object 'java.util.ArrayList'>, 'selamlama'), (<java object 'java.util.ArrayList'>, 'selamlama'), (<java object 'java.util.ArrayList'>, 'selamlama'), (<java object 'java.util.ArrayList'>, 'hoşçakal'), (<java object 'java.util.ArrayList'>, 'hoşçakal'), (<java object 'java.util.ArrayList'>, 'hoşçakal'), (<java object 'java.util.ArrayList'>, 'hoşçakal'), (<java object 'java.util.ArrayList'>, 'teşekkürler'), (<java object 'java.util.ArrayList'>, 'teşekkürler'), (<java object 'java.util.ArrayList'>, 'teşekkürler'), (<java object 'java.util.ArrayList'>, 'teşekkürler'), (<java object 'java.util.ArrayList'>, 'öğeler'), (<java object 'java.util.ArrayList'>, 'öğeler'), (<java object 'java.util.ArrayList'>, 'öğeler'), (<java object 'java.util.ArrayList'>, 'öğeler'), (<java object 'java.util.ArrayList'>, 'ödemeler'), (<java object 'java.util.ArrayList'>, 'ödemeler'), (<java object 'java.util.ArrayList'>, 'ödemeler'), (<java object 'java.util.ArrayList'>, 'ödemeler'), (<java object 'java.util.ArrayList'>, 'teslimat')]\n",
      "[(<java object 'java.util.ArrayList'>, 'selamlama'), (<java object 'java.util.ArrayList'>, 'selamlama'), (<java object 'java.util.ArrayList'>, 'selamlama'), (<java object 'java.util.ArrayList'>, 'selamlama'), (<java object 'java.util.ArrayList'>, 'selamlama'), (<java object 'java.util.ArrayList'>, 'hoşçakal'), (<java object 'java.util.ArrayList'>, 'hoşçakal'), (<java object 'java.util.ArrayList'>, 'hoşçakal'), (<java object 'java.util.ArrayList'>, 'hoşçakal'), (<java object 'java.util.ArrayList'>, 'teşekkürler'), (<java object 'java.util.ArrayList'>, 'teşekkürler'), (<java object 'java.util.ArrayList'>, 'teşekkürler'), (<java object 'java.util.ArrayList'>, 'teşekkürler'), (<java object 'java.util.ArrayList'>, 'öğeler'), (<java object 'java.util.ArrayList'>, 'öğeler'), (<java object 'java.util.ArrayList'>, 'öğeler'), (<java object 'java.util.ArrayList'>, 'öğeler'), (<java object 'java.util.ArrayList'>, 'ödemeler'), (<java object 'java.util.ArrayList'>, 'ödemeler'), (<java object 'java.util.ArrayList'>, 'ödemeler'), (<java object 'java.util.ArrayList'>, 'ödemeler'), (<java object 'java.util.ArrayList'>, 'teslimat'), (<java object 'java.util.ArrayList'>, 'teslimat')]\n",
      "[(<java object 'java.util.ArrayList'>, 'selamlama'), (<java object 'java.util.ArrayList'>, 'selamlama'), (<java object 'java.util.ArrayList'>, 'selamlama'), (<java object 'java.util.ArrayList'>, 'selamlama'), (<java object 'java.util.ArrayList'>, 'selamlama'), (<java object 'java.util.ArrayList'>, 'hoşçakal'), (<java object 'java.util.ArrayList'>, 'hoşçakal'), (<java object 'java.util.ArrayList'>, 'hoşçakal'), (<java object 'java.util.ArrayList'>, 'hoşçakal'), (<java object 'java.util.ArrayList'>, 'teşekkürler'), (<java object 'java.util.ArrayList'>, 'teşekkürler'), (<java object 'java.util.ArrayList'>, 'teşekkürler'), (<java object 'java.util.ArrayList'>, 'teşekkürler'), (<java object 'java.util.ArrayList'>, 'öğeler'), (<java object 'java.util.ArrayList'>, 'öğeler'), (<java object 'java.util.ArrayList'>, 'öğeler'), (<java object 'java.util.ArrayList'>, 'öğeler'), (<java object 'java.util.ArrayList'>, 'ödemeler'), (<java object 'java.util.ArrayList'>, 'ödemeler'), (<java object 'java.util.ArrayList'>, 'ödemeler'), (<java object 'java.util.ArrayList'>, 'ödemeler'), (<java object 'java.util.ArrayList'>, 'teslimat'), (<java object 'java.util.ArrayList'>, 'teslimat'), (<java object 'java.util.ArrayList'>, 'teslimat')]\n",
      "[(<java object 'java.util.ArrayList'>, 'selamlama'), (<java object 'java.util.ArrayList'>, 'selamlama'), (<java object 'java.util.ArrayList'>, 'selamlama'), (<java object 'java.util.ArrayList'>, 'selamlama'), (<java object 'java.util.ArrayList'>, 'selamlama'), (<java object 'java.util.ArrayList'>, 'hoşçakal'), (<java object 'java.util.ArrayList'>, 'hoşçakal'), (<java object 'java.util.ArrayList'>, 'hoşçakal'), (<java object 'java.util.ArrayList'>, 'hoşçakal'), (<java object 'java.util.ArrayList'>, 'teşekkürler'), (<java object 'java.util.ArrayList'>, 'teşekkürler'), (<java object 'java.util.ArrayList'>, 'teşekkürler'), (<java object 'java.util.ArrayList'>, 'teşekkürler'), (<java object 'java.util.ArrayList'>, 'öğeler'), (<java object 'java.util.ArrayList'>, 'öğeler'), (<java object 'java.util.ArrayList'>, 'öğeler'), (<java object 'java.util.ArrayList'>, 'öğeler'), (<java object 'java.util.ArrayList'>, 'ödemeler'), (<java object 'java.util.ArrayList'>, 'ödemeler'), (<java object 'java.util.ArrayList'>, 'ödemeler'), (<java object 'java.util.ArrayList'>, 'ödemeler'), (<java object 'java.util.ArrayList'>, 'teslimat'), (<java object 'java.util.ArrayList'>, 'teslimat'), (<java object 'java.util.ArrayList'>, 'teslimat'), (<java object 'java.util.ArrayList'>, 'teslimat')]\n",
      "[(<java object 'java.util.ArrayList'>, 'selamlama'), (<java object 'java.util.ArrayList'>, 'selamlama'), (<java object 'java.util.ArrayList'>, 'selamlama'), (<java object 'java.util.ArrayList'>, 'selamlama'), (<java object 'java.util.ArrayList'>, 'selamlama'), (<java object 'java.util.ArrayList'>, 'hoşçakal'), (<java object 'java.util.ArrayList'>, 'hoşçakal'), (<java object 'java.util.ArrayList'>, 'hoşçakal'), (<java object 'java.util.ArrayList'>, 'hoşçakal'), (<java object 'java.util.ArrayList'>, 'teşekkürler'), (<java object 'java.util.ArrayList'>, 'teşekkürler'), (<java object 'java.util.ArrayList'>, 'teşekkürler'), (<java object 'java.util.ArrayList'>, 'teşekkürler'), (<java object 'java.util.ArrayList'>, 'öğeler'), (<java object 'java.util.ArrayList'>, 'öğeler'), (<java object 'java.util.ArrayList'>, 'öğeler'), (<java object 'java.util.ArrayList'>, 'öğeler'), (<java object 'java.util.ArrayList'>, 'ödemeler'), (<java object 'java.util.ArrayList'>, 'ödemeler'), (<java object 'java.util.ArrayList'>, 'ödemeler'), (<java object 'java.util.ArrayList'>, 'ödemeler'), (<java object 'java.util.ArrayList'>, 'teslimat'), (<java object 'java.util.ArrayList'>, 'teslimat'), (<java object 'java.util.ArrayList'>, 'teslimat'), (<java object 'java.util.ArrayList'>, 'teslimat'), (<java object 'java.util.ArrayList'>, 'teslimat')]\n"
     ]
    },
    {
     "name": "stdout",
     "output_type": "stream",
     "text": [
      "[(<java object 'java.util.ArrayList'>, 'selamlama'), (<java object 'java.util.ArrayList'>, 'selamlama'), (<java object 'java.util.ArrayList'>, 'selamlama'), (<java object 'java.util.ArrayList'>, 'selamlama'), (<java object 'java.util.ArrayList'>, 'selamlama'), (<java object 'java.util.ArrayList'>, 'hoşçakal'), (<java object 'java.util.ArrayList'>, 'hoşçakal'), (<java object 'java.util.ArrayList'>, 'hoşçakal'), (<java object 'java.util.ArrayList'>, 'hoşçakal'), (<java object 'java.util.ArrayList'>, 'teşekkürler'), (<java object 'java.util.ArrayList'>, 'teşekkürler'), (<java object 'java.util.ArrayList'>, 'teşekkürler'), (<java object 'java.util.ArrayList'>, 'teşekkürler'), (<java object 'java.util.ArrayList'>, 'öğeler'), (<java object 'java.util.ArrayList'>, 'öğeler'), (<java object 'java.util.ArrayList'>, 'öğeler'), (<java object 'java.util.ArrayList'>, 'öğeler'), (<java object 'java.util.ArrayList'>, 'ödemeler'), (<java object 'java.util.ArrayList'>, 'ödemeler'), (<java object 'java.util.ArrayList'>, 'ödemeler'), (<java object 'java.util.ArrayList'>, 'ödemeler'), (<java object 'java.util.ArrayList'>, 'teslimat'), (<java object 'java.util.ArrayList'>, 'teslimat'), (<java object 'java.util.ArrayList'>, 'teslimat'), (<java object 'java.util.ArrayList'>, 'teslimat'), (<java object 'java.util.ArrayList'>, 'teslimat'), (<java object 'java.util.ArrayList'>, 'komik')]\n",
      "[(<java object 'java.util.ArrayList'>, 'selamlama'), (<java object 'java.util.ArrayList'>, 'selamlama'), (<java object 'java.util.ArrayList'>, 'selamlama'), (<java object 'java.util.ArrayList'>, 'selamlama'), (<java object 'java.util.ArrayList'>, 'selamlama'), (<java object 'java.util.ArrayList'>, 'hoşçakal'), (<java object 'java.util.ArrayList'>, 'hoşçakal'), (<java object 'java.util.ArrayList'>, 'hoşçakal'), (<java object 'java.util.ArrayList'>, 'hoşçakal'), (<java object 'java.util.ArrayList'>, 'teşekkürler'), (<java object 'java.util.ArrayList'>, 'teşekkürler'), (<java object 'java.util.ArrayList'>, 'teşekkürler'), (<java object 'java.util.ArrayList'>, 'teşekkürler'), (<java object 'java.util.ArrayList'>, 'öğeler'), (<java object 'java.util.ArrayList'>, 'öğeler'), (<java object 'java.util.ArrayList'>, 'öğeler'), (<java object 'java.util.ArrayList'>, 'öğeler'), (<java object 'java.util.ArrayList'>, 'ödemeler'), (<java object 'java.util.ArrayList'>, 'ödemeler'), (<java object 'java.util.ArrayList'>, 'ödemeler'), (<java object 'java.util.ArrayList'>, 'ödemeler'), (<java object 'java.util.ArrayList'>, 'teslimat'), (<java object 'java.util.ArrayList'>, 'teslimat'), (<java object 'java.util.ArrayList'>, 'teslimat'), (<java object 'java.util.ArrayList'>, 'teslimat'), (<java object 'java.util.ArrayList'>, 'teslimat'), (<java object 'java.util.ArrayList'>, 'komik'), (<java object 'java.util.ArrayList'>, 'komik')]\n"
     ]
    }
   ],
   "source": [
    "for intent in intents['intents']: # Tagları , kelimeleri vb. ayırma işlemlerini burada yapıyoruz\n",
    "    tag=intent['tag']\n",
    "    tags.append(tag)\n",
    "    for pattern in intent['patterns']:\n",
    "        pattern=normalizer(pattern)################################buraya normalize koydum\n",
    "        w=tokenize(pattern)\n",
    "        all_words.extend(w)\n",
    "        xy.append((w,tag))\n",
    "        print(xy)\n"
   ]
  },
  {
   "cell_type": "code",
   "execution_count": null,
   "metadata": {},
   "outputs": [],
   "source": [
    "ignore_words=['?','.','!',',',';',':']"
   ]
  },
  {
   "cell_type": "code",
   "execution_count": null,
   "metadata": {},
   "outputs": [],
   "source": [
    "all_words=[stem(w) for w in all_words if w not in ignore_words] # burada noktalamaları kaldırılıyor.\n",
    "print(all_words)"
   ]
  },
  {
   "cell_type": "code",
   "execution_count": null,
   "metadata": {
    "scrolled": true
   },
   "outputs": [],
   "source": [
    "all_words=sorted(set(all_words)) #aynı kelimeden 1den fazla varsa tek sayıya düşüyor ve sralıyor.\n",
    "tags= sorted(set(tags))\n",
    "print(xy)"
   ]
  },
  {
   "cell_type": "code",
   "execution_count": null,
   "metadata": {},
   "outputs": [],
   "source": []
  },
  {
   "cell_type": "code",
   "execution_count": null,
   "metadata": {},
   "outputs": [],
   "source": []
  },
  {
   "cell_type": "code",
   "execution_count": null,
   "metadata": {},
   "outputs": [],
   "source": [
    "X_train=[]\n",
    "y_train=[]"
   ]
  },
  {
   "cell_type": "code",
   "execution_count": null,
   "metadata": {},
   "outputs": [],
   "source": []
  },
  {
   "cell_type": "code",
   "execution_count": null,
   "metadata": {},
   "outputs": [],
   "source": []
  },
  {
   "cell_type": "code",
   "execution_count": null,
   "metadata": {},
   "outputs": [],
   "source": [
    "for (pattern_sentence , tag )in xy:\n",
    "    bag=bag_of_word(pattern_sentence,all_words)\n",
    "    X_train.append(bag)\n",
    "    \n",
    "    label=tags.index(tag)\n",
    "    y_train.append(label)\n",
    "\n",
    "X_train=np.array(X_train)\n",
    "y_train=np.array(y_train)\n",
    "\n",
    "print(X_train)"
   ]
  },
  {
   "cell_type": "code",
   "execution_count": null,
   "metadata": {},
   "outputs": [],
   "source": []
  },
  {
   "cell_type": "code",
   "execution_count": null,
   "metadata": {},
   "outputs": [],
   "source": [
    "class ChatDataset(Dataset):\n",
    "    def __init__(self):\n",
    "        self.n_samples=len(X_train)\n",
    "        self.x_data=X_train\n",
    "        self.y_data=y_train\n",
    "        \n",
    "    def __getitem__(self,index):\n",
    "        return self.x_data[index],self.y_data[index]\n",
    "    \n",
    "    def __len__(self):\n",
    "        return self.n_samples\n",
    "    "
   ]
  },
  {
   "cell_type": "code",
   "execution_count": null,
   "metadata": {
    "scrolled": true
   },
   "outputs": [],
   "source": [
    "    "
   ]
  },
  {
   "cell_type": "code",
   "execution_count": null,
   "metadata": {},
   "outputs": [],
   "source": []
  },
  {
   "cell_type": "code",
   "execution_count": null,
   "metadata": {},
   "outputs": [],
   "source": [
    "\n",
    "batch_size=8\n",
    "\n",
    "hidden_size=8\n",
    "output_size=len(tags)\n",
    "input_size=len(X_train[0])\n",
    "\n",
    "learning_rate=0.001\n",
    "num_epochs=1000\n",
    "\n",
    "#print(input_size,len(all_words))\n",
    "#print(output_size,tags)"
   ]
  },
  {
   "cell_type": "code",
   "execution_count": null,
   "metadata": {},
   "outputs": [],
   "source": []
  },
  {
   "cell_type": "code",
   "execution_count": null,
   "metadata": {},
   "outputs": [],
   "source": []
  },
  {
   "cell_type": "code",
   "execution_count": null,
   "metadata": {},
   "outputs": [],
   "source": [
    "\n",
    "\n",
    "dataset=ChatDataset()\n",
    "train_loader=DataLoader(dataset=dataset,batch_size=batch_size, shuffle=True, num_workers=0)"
   ]
  },
  {
   "cell_type": "code",
   "execution_count": null,
   "metadata": {},
   "outputs": [],
   "source": []
  },
  {
   "cell_type": "code",
   "execution_count": null,
   "metadata": {},
   "outputs": [],
   "source": []
  },
  {
   "cell_type": "code",
   "execution_count": null,
   "metadata": {},
   "outputs": [],
   "source": [
    "device=torch.device('cuda' if torch.cuda.is_available() else 'cpu')"
   ]
  },
  {
   "cell_type": "code",
   "execution_count": null,
   "metadata": {},
   "outputs": [],
   "source": [
    "model=NeuralNet(input_size,hidden_size,output_size).to(device)\n",
    "\n"
   ]
  },
  {
   "cell_type": "code",
   "execution_count": null,
   "metadata": {},
   "outputs": [],
   "source": [
    "# loss and optimizer \n",
    "\n",
    "criterion=nn.CrossEntropyLoss()\n",
    "optimizer=torch.optim.Adam(model.parameters(),lr=learning_rate)"
   ]
  },
  {
   "cell_type": "code",
   "execution_count": null,
   "metadata": {},
   "outputs": [],
   "source": []
  },
  {
   "cell_type": "code",
   "execution_count": null,
   "metadata": {},
   "outputs": [],
   "source": []
  },
  {
   "cell_type": "code",
   "execution_count": null,
   "metadata": {},
   "outputs": [],
   "source": []
  },
  {
   "cell_type": "code",
   "execution_count": null,
   "metadata": {},
   "outputs": [],
   "source": [
    "\n",
    "for epoch in range(num_epochs):\n",
    "    for (words, labels) in train_loader:\n",
    "        words = words.to(device)\n",
    "        labels = labels.to(device)\n",
    "        \n",
    "        # Forward pass\n",
    "        outputs = model(words)\n",
    "        # if y would be one-hot, we must apply\n",
    "        # labels = torch.max(labels, 1)[1]\n",
    "        loss = criterion(outputs, labels.long())\n",
    "        \n",
    "        # Backward and optimize\n",
    "        optimizer.zero_grad()\n",
    "        loss.backward()\n",
    "        optimizer.step()\n",
    "        \n",
    "    if (epoch+1) % 100 == 0:\n",
    "        print (f'Epoch [{epoch+1}/{num_epochs}], Loss: {loss.item():.4f}')\n",
    "\n",
    "\n",
    "print(f'final loss: {loss.item():.4f}')"
   ]
  },
  {
   "cell_type": "code",
   "execution_count": null,
   "metadata": {},
   "outputs": [],
   "source": [
    "data={\n",
    "    \"model_state\":model.state_dict(),\n",
    "    \"input_size\":input_size,\n",
    "    \"output_size\":output_size,\n",
    "    \"hiddent_size\":hidden_size,\n",
    "    \"all_words\":all_words,\n",
    "    \"tags\":tags\n",
    "}"
   ]
  },
  {
   "cell_type": "code",
   "execution_count": null,
   "metadata": {},
   "outputs": [],
   "source": []
  },
  {
   "cell_type": "code",
   "execution_count": null,
   "metadata": {},
   "outputs": [],
   "source": []
  },
  {
   "cell_type": "code",
   "execution_count": null,
   "metadata": {},
   "outputs": [],
   "source": [
    "FILE = \"data.pth\"\n",
    "torch.save(data,FILE)\n",
    "\n",
    "print(f'eğitim tamamlandı. dosya {FILE} olarak kaydedildi')"
   ]
  },
  {
   "cell_type": "code",
   "execution_count": null,
   "metadata": {},
   "outputs": [],
   "source": []
  },
  {
   "cell_type": "code",
   "execution_count": null,
   "metadata": {},
   "outputs": [],
   "source": []
  },
  {
   "cell_type": "code",
   "execution_count": null,
   "metadata": {},
   "outputs": [],
   "source": []
  },
  {
   "cell_type": "code",
   "execution_count": null,
   "metadata": {},
   "outputs": [],
   "source": []
  },
  {
   "cell_type": "code",
   "execution_count": null,
   "metadata": {},
   "outputs": [],
   "source": []
  },
  {
   "cell_type": "code",
   "execution_count": null,
   "metadata": {},
   "outputs": [],
   "source": []
  }
 ],
 "metadata": {
  "kernelspec": {
   "display_name": "Python 3.7 (tensorflow)",
   "language": "python",
   "name": "tensorflow"
  },
  "language_info": {
   "codemirror_mode": {
    "name": "ipython",
    "version": 3
   },
   "file_extension": ".py",
   "mimetype": "text/x-python",
   "name": "python",
   "nbconvert_exporter": "python",
   "pygments_lexer": "ipython3",
   "version": "3.7.7"
  }
 },
 "nbformat": 4,
 "nbformat_minor": 4
}
