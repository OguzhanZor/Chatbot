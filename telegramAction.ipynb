{
 "cells": [
  {
   "cell_type": "code",
   "execution_count": 58,
   "metadata": {},
   "outputs": [],
   "source": [
    "import import_ipynb\n",
    "from nltk_utils import speechTotext\n",
    "import urllib.request\n",
    "import urllib.parse\n",
    "\n",
    "\n",
    "import json\n",
    "import time\n",
    "\n",
    "\n",
    "\n",
    "\n",
    "from werkzeug.wrappers import Request, Response\n",
    "from flask import Flask, jsonify, request\n"
   ]
  },
  {
   "cell_type": "code",
   "execution_count": 87,
   "metadata": {},
   "outputs": [],
   "source": [
    "def send_fonk(chat_id,text):\n",
    "    #if text == 'merhaba':\n",
    "      #  kk = 'kaybol'\n",
    "    #elif text != 'merhaba':\n",
    "      #  kk = 'olmadı be öçğüİşı'\n",
    "    print(\"send fonksiyona girdi\")\n",
    "    print(text)\n",
    "    print(chat_id)\n",
    "\n",
    "    url = f'https://api.telegram.org/bot1151092564:AAHcCDQf36XQWbtJxVJwB8q3O1Gq3dyhs3o/sendMessage?chat_id={chat_id}&text={urllib.parse.quote(text)}'\n",
    "\n",
    "    urllib.request.urlopen(url)"
   ]
  },
  {
   "cell_type": "code",
   "execution_count": 60,
   "metadata": {},
   "outputs": [],
   "source": [
    "def action_Yont(bot_name=\"\", action=\"\",chat_id=\"0\" , parameters=\"\"):\n",
    "   \n",
    "    if action==\"2\":\n",
    "        return havaDurumu(chat_id,parameters)\n",
    "    elif action==\"3\":\n",
    "        return musteri_kayit(chat_id,parameters)\n",
    "        #fonksiyon çağırımı\n",
    "    #else if şart:\n",
    "        #fonksiyon çağırımı\n",
    "    else:\n",
    "        return \"false\",chat_id,\"0\""
   ]
  },
  {
   "cell_type": "code",
   "execution_count": null,
   "metadata": {},
   "outputs": [],
   "source": []
  },
  {
   "cell_type": "code",
   "execution_count": 105,
   "metadata": {},
   "outputs": [],
   "source": [
    "islemde_musteriler={'1234567890' :{\"a-firstname\" :'ad',\n",
    "                \"b-lastname\" :'soyad',\n",
    "                \"c-phone\" :'+90530',\n",
    "                \"d-email\" :'e@posta.com',\n",
    "                \"e-promt\" :'evet'}}\n",
    "   \n",
    "def musteri_kayit(chat_id,parameters=\"\"):\n",
    "\n",
    "    \n",
    "    \n",
    "    print(islemde_musteriler)\n",
    "    print(\" ------1111------\")\n",
    "  \n",
    "    if str(chat_id) in islemde_musteriler:\n",
    "        print(\"Müşteri kayıt fonk  müşteri sorgu müşteri var \")\n",
    "    else:\n",
    "         islemde_musteriler[str(chat_id)] ={\"a-firstname\" :'',\"b-lastname\" : '',\"c-phone\" : '',\"d-email\" :'',\"e-promt\" : ''}\n",
    "            \n",
    "    istenilecek_key1=\"\"        \n",
    "            \n",
    "    for (i,j) in sorted(islemde_musteriler[str(chat_id)].items()):\n",
    "        if j==\"\":\n",
    "            istenilecek_key1=i\n",
    "            print(\"istenilecek anahter1111111:::: \"+ i)\n",
    "            print(i)\n",
    "            break\n",
    "    print( islemde_musteriler[str(chat_id)])\n",
    "    islemde_musteriler[str(chat_id)][istenilecek_key1]=parameters\n",
    "    print( islemde_musteriler[str(chat_id)])\n",
    "    if  islemde_musteriler[str(chat_id)]['e-promt']!='':\n",
    "        print(\"EPROMMM ONAY KISMI\")\n",
    "        if islemde_musteriler[str(chat_id)]['e-promt']=='evet':\n",
    "            print(\"e-prom EVEEETTT\")\n",
    "            metin=\"\"\n",
    "            for item in islemde_musteriler[str(chat_id)].values():\n",
    "                metin=metin+\"-\"+item\n",
    "            \n",
    "            \n",
    "            send_fonk(chat_id,metin+\"\\n kayıt oluşturulması \\n kayıt olma işlemi fonksiyon çalıştırılması\")\n",
    "            \n",
    "            del islemde_musteriler[str(chat_id)]\n",
    "        \n",
    "        elif islemde_musteriler[str(chat_id)]['e-promt']=='hayır':\n",
    "            print(\"Epromt HAYYIIIRRR\")\n",
    "            metin=\"\"\n",
    "            for item in islemde_musteriler[str(chat_id)].values():\n",
    "                metin=metin+\"-\"+item\n",
    "            \n",
    "            print(\"kaydın iptal edildi\")\n",
    "            send_fonk(chat_id,metin+\"\\nkaydın iptal edildi\\n kayıt olma işlemi fonksiyon çalıştırılması\")\n",
    "            \n",
    "            del islemde_musteriler[str(chat_id)]\n",
    "            \n",
    "        return \"false\",chat_id,\"3\"\n",
    "        \n",
    "    else:\n",
    "        print(\"promp BOOOOOŞŞŞŞ BOOOŞŞŞ\")\n",
    "        \n",
    "    \n",
    "    \n",
    "    \n",
    "    try:\n",
    "       \n",
    "        \n",
    "        \n",
    "        print(islemde_musteriler[str(chat_id)])\n",
    "        for (i,j) in sorted(islemde_musteriler[str(chat_id)].items()):\n",
    "                if j==\"\":\n",
    "                    istenilecek_key2=i\n",
    "                    print(\"istenilecek anahter22222:::: \"+ i)\n",
    "                    break\n",
    "        print(\"---\"+istenilecek_key2+\" yazınız. \")\n",
    "        send_fonk(chat_id,istenilecek_key2+\" yazınız. \")\n",
    "        print(islemde_musteriler[str(chat_id)])\n",
    "        print(\"--22222---\")\n",
    "    \n",
    "    \n",
    "        return 'true', chat_id, '3'\n",
    "    \n",
    "    \n",
    "    \n",
    "    except:\n",
    "        print(\"müşteri ekleme excepttttt\")\n",
    "    \n",
    "\n",
    "    \n",
    "    \n",
    "    \n",
    "    \n",
    "    "
   ]
  },
  {
   "cell_type": "code",
   "execution_count": 102,
   "metadata": {},
   "outputs": [
    {
     "name": "stdout",
     "output_type": "stream",
     "text": [
      "{'1234567890': {'a-firstname': 'ad', 'b-lastname': 'soyad', 'c-phone': '+90530', 'd-email': 'e@posta.com', 'e-promt': 'evet'}, '685931403': {'a-firstname': 'oguz', 'b-lastname': 'zr', 'c-phone': '+950', 'd-email': 'epost', 'e-promt': ''}}\n",
      " ------1111------\n",
      "Müşteri kayıt fonk  müşteri sorgu müşteri var \n",
      "istenilecek anahter1111111:::: e-promt\n",
      "e-promt\n",
      "send fonksiyona girdi\n",
      "-oguz-zr-+950-epost-evet\n",
      " kayıt oluşturulması \n",
      " kayıt olma işlemi fonksiyon çalıştırılması\n",
      "685931403\n"
     ]
    },
    {
     "data": {
      "text/plain": [
       "('false', '685931403', '0')"
      ]
     },
     "execution_count": 102,
     "metadata": {},
     "output_type": "execute_result"
    }
   ],
   "source": [
    "#musteri_kayit('685931403',\"evet\")"
   ]
  },
  {
   "cell_type": "code",
   "execution_count": 157,
   "metadata": {},
   "outputs": [],
   "source": [
    "def havaDurumu(chat_id,sehir):\n",
    "    if sehir==\"\" or sehir==\" \":\n",
    "        \n",
    "        url = f'https://api.telegram.org/bot1151092564:AAHcCDQf36XQWbtJxVJwB8q3O1Gq3dyhs3o/sendMessage?chat_id={685931403}&text={urllib.parse.quote(\"Hangi şehri istiyorsun\")}'\n",
    "\n",
    "        urllib.request.urlopen(url)\n",
    "        \n",
    "        return \"true\",chat_id,\"2\"\n",
    "    else:\n",
    "\n",
    "        # importing requests and json\n",
    "        import requests, json\n",
    "        # base URL\n",
    "        BASE_URL = \"https://api.openweathermap.org/data/2.5/weather?\"\n",
    "        CITY = sehir\n",
    "        API_KEY = \"8f43360b7af99ade7d321c81aebdcc28\"\n",
    "        # upadting the URL\n",
    "        URL = BASE_URL + \"q=\" + CITY + \"&appid=\" + API_KEY+\"&lang=tr\"\n",
    "        # HTTP request\n",
    "        response = requests.get(URL)\n",
    "        # checking the status code of the request\n",
    "        if response.status_code == 200:\n",
    "           # getting data in the json format\n",
    "            data = response.json()\n",
    "           # getting the main dict block\n",
    "            main = data['main']\n",
    "           # getting temperature\n",
    "            temperature = main['temp']\n",
    "        \n",
    "            temperature=int(temperature/10)\n",
    "\n",
    "            report = data['weather']\n",
    "            send_fonk(chat_id,str(\"Şehir: \"+CITY+\" Sıcaklık: \"+str(temperature)+\" Hava Durumu: \"+report[0]['description']))\n",
    "# SEND MESSAJ BURADA YAPILACK GERİYE RTURN TRUE,MSG,AKSİYON=0\n",
    "            return \"false\",chat_id,\"0\"\n",
    "        else:\n",
    "        # SEND MESSAJ BURADA YAPILACK GERİYE RTURN TRUE, \"msg \",AKSİYON=0\n",
    "            send_fonk(chat_id,\"İstediğiniz yerin hava durumu bilgisi yoktur veya erişilemedi.\")\n",
    "            return \"false\",chat_id,\"0\""
   ]
  },
  {
   "cell_type": "code",
   "execution_count": 159,
   "metadata": {},
   "outputs": [
    {
     "data": {
      "text/plain": [
       "('false', 'msg', '0')"
      ]
     },
     "execution_count": 159,
     "metadata": {},
     "output_type": "execute_result"
    }
   ],
   "source": [
    "#havaDurumu(685931403,'Bursa')"
   ]
  }
 ],
 "metadata": {
  "kernelspec": {
   "display_name": "Python 3.7 (tensorflow)",
   "language": "python",
   "name": "tensorflow"
  },
  "language_info": {
   "codemirror_mode": {
    "name": "ipython",
    "version": 3
   },
   "file_extension": ".py",
   "mimetype": "text/x-python",
   "name": "python",
   "nbconvert_exporter": "python",
   "pygments_lexer": "ipython3",
   "version": "3.7.7"
  }
 },
 "nbformat": 4,
 "nbformat_minor": 4
}
