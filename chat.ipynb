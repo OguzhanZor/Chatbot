{
 "cells": [
  {
   "cell_type": "code",
   "execution_count": 1,
   "metadata": {},
   "outputs": [
    {
     "name": "stdout",
     "output_type": "stream",
     "text": [
      "importing Jupyter notebook from model.ipynb\n",
      "importing Jupyter notebook from nltk_utils.ipynb\n",
      "importing Jupyter notebook from actionClass.ipynb\n"
     ]
    }
   ],
   "source": [
    "import import_ipynb\n",
    "\n",
    "import random\n",
    "import json\n",
    "import torch\n",
    "from model import NeuralNet\n",
    "from nltk_utils import bag_of_word,tokenize,normalizer,speechTotext,ner\n",
    "\n",
    "from actionClass import action_Yont\n",
    "\n",
    "import time"
   ]
  },
  {
   "cell_type": "code",
   "execution_count": null,
   "metadata": {},
   "outputs": [],
   "source": []
  },
  {
   "cell_type": "code",
   "execution_count": null,
   "metadata": {},
   "outputs": [],
   "source": []
  },
  {
   "cell_type": "code",
   "execution_count": 2,
   "metadata": {},
   "outputs": [],
   "source": [
    "device=torch.device('cuda' if torch.cuda.is_available() else 'cpu')\n"
   ]
  },
  {
   "cell_type": "code",
   "execution_count": null,
   "metadata": {},
   "outputs": [],
   "source": []
  },
  {
   "cell_type": "code",
   "execution_count": 3,
   "metadata": {
    "scrolled": true
   },
   "outputs": [
    {
     "name": "stdout",
     "output_type": "stream",
     "text": [
      "{'intents': [{'tag': 'selamlama', 'patterns': ['Selam', 'Nasılsın', 'Kimse Yok Mu?', 'Merhaba', 'İyi günler'], 'responses': ['Hey :-)', 'Merhaba, ziyaret ettiğiniz için teşekkürler', 'Merhabalar, sizin için ne yapabilirim?', 'Merhabalar, nasıl yardımcı olabilirim?'], 'action': ['1']}, {'tag': 'hoşçakal', 'patterns': ['Güle güle', 'Sonra görüşürüz', 'Görüşürüz', 'By By'], 'responses': ['Sonra görüşürüz, ziyaret ettiğiniz için teşekkürler', 'İyi günler', 'Güle güle! Kısa süre sonra tekrar gelin.'], 'action': ['']}, {'tag': 'teşekkürler', 'patterns': ['Teşekkürler', 'Sağol', 'Yardımcı oldu', 'Çok teşekkür ederim!'], 'responses': ['Yardımcı olmaktan mutluluk duyarız!', 'Her zaman!', 'Memnuniyetle'], 'action': ['']}, {'tag': 'öğeler', 'patterns': ['Neler satıyorsun?', 'Hangi eşyalarınız var?', 'Ne tür eşyalar var?', 'Ne satıyorsun?'], 'responses': ['Kahve ve çay satıyoruz', 'Kahve ve çayımız var'], 'action': ['']}, {'tag': 'ödemeler', 'patterns': ['Kredi kartı kabul ediyor musunuz?', 'MasterCard kabul ediyor musunuz?', 'Paypal ile ödeme yapabilir miyim?', 'Yalnızca nakit misiniz?'], 'responses': ['Nakit, VISA, Mastercard ve Paypal kabul ediyoruz', \"Nakit yanında çoğu kredi kartını ve Paypal'ı kabul ediyoruz\"], 'action': ['']}, {'tag': 'teslimat', 'patterns': ['Ne zamana gönderebilirsiniz?', 'Ne zamana kadar teslim edebilirsiniz?', 'Teslimat ne kadar sürer?', 'Nakliye ne kadar sürer?', 'Teslimatımı ne zaman alacağım?'], 'responses': ['Teslimat 2-4 gün sürer', 'Nakliye 2-4 gün sürer'], 'action': ['']}, {'tag': 'komik', 'patterns': ['Bana şaka yapabilir misin?', 'Bana bir fıkra anlat!', 'Bana komik bir şey söyle!', 'Bir şaka biliyor musun?'], 'responses': ['Yenilikçi neden ağzını yaktı? Kahveyi soğumadan içti.', 'Oğlu üniversiteye gittiğinde bufalo ne dedi? Bison.'], 'action': ['']}, {'tag': 'hava', 'patterns': ['Hava nasıl?', 'Havayı söyle!', 'Nasıl hava?', 'Hava durumu.'], 'responses': [''], 'action': ['2']}]}\n"
     ]
    }
   ],
   "source": [
    "with open('intents.json',encoding='utf-8') as f:\n",
    "    intents=json.load(f)\n",
    "\n",
    "print(intents)"
   ]
  },
  {
   "cell_type": "code",
   "execution_count": null,
   "metadata": {},
   "outputs": [],
   "source": []
  },
  {
   "cell_type": "code",
   "execution_count": 4,
   "metadata": {},
   "outputs": [],
   "source": [
    "\n",
    "tags=[]\n",
    "actions=[]"
   ]
  },
  {
   "cell_type": "code",
   "execution_count": null,
   "metadata": {},
   "outputs": [],
   "source": []
  },
  {
   "cell_type": "code",
   "execution_count": 5,
   "metadata": {},
   "outputs": [
    {
     "name": "stdout",
     "output_type": "stream",
     "text": [
      "['selamlama', 'hoşçakal', 'teşekkürler', 'öğeler', 'ödemeler', 'teslimat', 'komik', 'hava']\n",
      "['1', '', '', '', '', '', '', '2']\n"
     ]
    }
   ],
   "source": [
    "for intent in intents['intents']:\n",
    "    tag= intent['tag']\n",
    "    tags.append(tag)\n",
    "    \n",
    "    action=intent['action']\n",
    "    actions.append(action[0])\n",
    "    \n",
    "\n",
    "print(tags)\n",
    "print(actions)"
   ]
  },
  {
   "cell_type": "code",
   "execution_count": null,
   "metadata": {},
   "outputs": [],
   "source": []
  },
  {
   "cell_type": "code",
   "execution_count": 6,
   "metadata": {},
   "outputs": [
    {
     "name": "stdout",
     "output_type": "stream",
     "text": [
      "['hava', 'hoşçakal', 'komik', 'selamlama', 'teslimat', 'teşekkürler', 'ödemeler', 'öğeler']\n",
      "['2', '', '', '1', '', '', '', '']\n"
     ]
    }
   ],
   "source": [
    "tags=sorted(set(tags))\n",
    "k=[]\n",
    "\n",
    "for tag in tags:\n",
    "    for intent in intents['intents']:\n",
    "        if tag == intent['tag']:\n",
    "            k.append(intent['action'][0])\n",
    "        \n",
    "actions=k\n",
    "print(tags)\n",
    "print(actions)"
   ]
  },
  {
   "cell_type": "code",
   "execution_count": null,
   "metadata": {},
   "outputs": [],
   "source": []
  },
  {
   "cell_type": "code",
   "execution_count": null,
   "metadata": {},
   "outputs": [],
   "source": []
  },
  {
   "cell_type": "code",
   "execution_count": 7,
   "metadata": {},
   "outputs": [],
   "source": [
    "FILE=\"data.pth\"\n",
    "data=torch.load(FILE)"
   ]
  },
  {
   "cell_type": "code",
   "execution_count": null,
   "metadata": {},
   "outputs": [],
   "source": []
  },
  {
   "cell_type": "code",
   "execution_count": 8,
   "metadata": {},
   "outputs": [],
   "source": [
    "input_size=data[\"input_size\"]\n",
    "output_size=data[\"output_size\"]\n",
    "hidden_size=data[\"hiddent_size\"]\n",
    "all_words=data[\"all_words\"]\n",
    "tags=data[\"tags\"]\n",
    "model_state=data[\"model_state\"]"
   ]
  },
  {
   "cell_type": "code",
   "execution_count": null,
   "metadata": {},
   "outputs": [],
   "source": []
  },
  {
   "cell_type": "code",
   "execution_count": null,
   "metadata": {},
   "outputs": [],
   "source": []
  },
  {
   "cell_type": "code",
   "execution_count": 9,
   "metadata": {},
   "outputs": [
    {
     "data": {
      "text/plain": [
       "NeuralNet(\n",
       "  (l1): Linear(in_features=54, out_features=8, bias=True)\n",
       "  (l2): Linear(in_features=8, out_features=8, bias=True)\n",
       "  (l3): Linear(in_features=8, out_features=8, bias=True)\n",
       "  (relu): ReLU()\n",
       ")"
      ]
     },
     "execution_count": 9,
     "metadata": {},
     "output_type": "execute_result"
    }
   ],
   "source": [
    "model=NeuralNet(input_size,hidden_size,output_size).to(device)\n",
    "model.load_state_dict(model_state)\n",
    "model.eval()"
   ]
  },
  {
   "cell_type": "code",
   "execution_count": null,
   "metadata": {},
   "outputs": [],
   "source": []
  },
  {
   "cell_type": "code",
   "execution_count": 10,
   "metadata": {},
   "outputs": [],
   "source": [
    "bot_name=\"ECE\""
   ]
  },
  {
   "cell_type": "code",
   "execution_count": null,
   "metadata": {},
   "outputs": [],
   "source": []
  },
  {
   "cell_type": "code",
   "execution_count": null,
   "metadata": {},
   "outputs": [],
   "source": []
  },
  {
   "cell_type": "code",
   "execution_count": null,
   "metadata": {},
   "outputs": [],
   "source": []
  },
  {
   "cell_type": "code",
   "execution_count": 18,
   "metadata": {},
   "outputs": [
    {
     "name": "stdout",
     "output_type": "stream",
     "text": [
      "hadi konuşalım.Konuşmayı bitirmek için 'quit' yaz...\n",
      "su\n",
      "\n",
      "ECE :Merhaba, ziyaret ettiğiniz için teşekkürler\n",
      "\n",
      "mesut\n",
      "\n",
      "ECE :Merhaba, ziyaret ettiğiniz için teşekkürler\n",
      "\n",
      "merhaba\n",
      "\n",
      "ECE :Hey :-)\n",
      "\n",
      "neler \n",
      "ECE: Seni anlamadım \n",
      "bitir\n",
      "asistan kapatıldı\n"
     ]
    }
   ],
   "source": [
    "print(\"hadi konuşalım.Konuşmayı bitirmek için 'quit' yaz...\")\n",
    "\n",
    "while True:\n",
    "    #konusma=speechTotext()# konuşma yolu ile iletişim için\n",
    "    konusma=input()# konuşma yolu ile iletişim yapacaksan burayı açıklama satırı yap\n",
    "    nerParameters=ner(konusma)\n",
    "    sentence=konusma\n",
    "  \n",
    "    sentence=normalizer(sentence)  #########################################buraya normalizer koydum\n",
    "    if sentence== \"bitir\":\n",
    "        print(\"asistan kapatıldı\")\n",
    "        break\n",
    "    sentence=tokenize(sentence)\n",
    "    x=bag_of_word(sentence,all_words)\n",
    "    x=x.reshape(1,x.shape[0])\n",
    "    x=torch.from_numpy(x).to(device)\n",
    "    \n",
    "    output=model(x)\n",
    "    _,predicted=torch.max(output,dim=1)\n",
    "    tag=tags[predicted.item()]\n",
    "    \n",
    "    \n",
    "    probs=torch.softmax(output,dim=1)\n",
    "    prob=probs[0][predicted.item()]\n",
    "\n",
    "    if prob.item()>0.75:\n",
    "        for intent in intents[\"intents\"]:\n",
    "            if tag==intent[\"tag\"]:\n",
    "                print(f\"\\n{bot_name} :{random.choice(intent['responses'])}\")\n",
    "                if \"yok\" !=action_Yont(bot_name, actions[predicted.item()],nerParameters):\n",
    "                    print(action_Yont(bot_name, actions[predicted.item()],nerParameters)) \n",
    "                else: \n",
    "                    print(\"\")\n",
    "                time.sleep(2.5)\n",
    "    else:\n",
    "        print(f\"{bot_name}: Seni anlamadım \")\n",
    "        time.sleep(2.5)\n",
    "        "
   ]
  },
  {
   "cell_type": "code",
   "execution_count": 14,
   "metadata": {},
   "outputs": [
    {
     "name": "stdout",
     "output_type": "stream",
     "text": [
      "\n"
     ]
    }
   ],
   "source": []
  },
  {
   "cell_type": "code",
   "execution_count": null,
   "metadata": {},
   "outputs": [],
   "source": []
  },
  {
   "cell_type": "code",
   "execution_count": null,
   "metadata": {},
   "outputs": [],
   "source": []
  },
  {
   "cell_type": "code",
   "execution_count": null,
   "metadata": {},
   "outputs": [],
   "source": []
  }
 ],
 "metadata": {
  "kernelspec": {
   "display_name": "Python 3.7 (tensorflow)",
   "language": "python",
   "name": "tensorflow"
  },
  "language_info": {
   "codemirror_mode": {
    "name": "ipython",
    "version": 3
   },
   "file_extension": ".py",
   "mimetype": "text/x-python",
   "name": "python",
   "nbconvert_exporter": "python",
   "pygments_lexer": "ipython3",
   "version": "3.7.7"
  }
 },
 "nbformat": 4,
 "nbformat_minor": 4
}
